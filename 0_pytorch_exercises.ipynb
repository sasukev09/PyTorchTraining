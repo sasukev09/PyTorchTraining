{
  "nbformat": 4,
  "nbformat_minor": 0,
  "metadata": {
    "colab": {
      "provenance": [],
      "gpuType": "T4",
      "authorship_tag": "ABX9TyMGZ8NAFPnwYuZrKoMA9oTR"
    },
    "kernelspec": {
      "name": "python3",
      "display_name": "Python 3"
    },
    "language_info": {
      "name": "python"
    },
    "accelerator": "GPU"
  },
  "cells": [
    {
      "cell_type": "code",
      "execution_count": 2,
      "metadata": {
        "colab": {
          "base_uri": "https://localhost:8080/"
        },
        "id": "uwT7g7HMXg-p",
        "outputId": "d2edc885-b3b4-43d5-d3ed-345dd349bd27"
      },
      "outputs": [
        {
          "output_type": "execute_result",
          "data": {
            "text/plain": [
              "(tensor([[0.5372, 0.5476, 0.0111, 0.7776, 0.5060, 0.7077, 0.4092],\n",
              "         [0.7828, 0.4208, 0.1148, 0.0018, 0.8521, 0.4051, 0.5355],\n",
              "         [0.5175, 0.2403, 0.3506, 0.2896, 0.4035, 0.2405, 0.0091],\n",
              "         [0.9628, 0.0222, 0.3102, 0.6626, 0.6782, 0.7000, 0.8207],\n",
              "         [0.5379, 0.6848, 0.2911, 0.6821, 0.4427, 0.0047, 0.0915],\n",
              "         [0.0803, 0.6284, 0.7690, 0.9819, 0.8898, 0.6089, 0.3958],\n",
              "         [0.6686, 0.5476, 0.0288, 0.0673, 0.5501, 0.5114, 0.4349]]),\n",
              " torch.Size([7, 7]))"
            ]
          },
          "metadata": {},
          "execution_count": 2
        }
      ],
      "source": [
        "# Create a random tensor with shape (7,7)\n",
        "\n",
        "import torch\n",
        "\n",
        "random_tensor = torch.rand(7,7)\n",
        "random_tensor, random_tensor.shape"
      ]
    },
    {
      "cell_type": "code",
      "source": [
        "#Perform a matrix multiplication on the tensor from 2 with another\n",
        "#random tensor with shape (1, 7) (hint: you may have to transpose the second tensor)"
      ],
      "metadata": {
        "id": "muHIEm_FbxKv"
      },
      "execution_count": 3,
      "outputs": []
    },
    {
      "cell_type": "code",
      "source": [
        "another_tensor = torch.rand(1,7)\n",
        "another_tensor,another_tensor.shape"
      ],
      "metadata": {
        "colab": {
          "base_uri": "https://localhost:8080/"
        },
        "id": "vzjOo6EBcren",
        "outputId": "dc569ae4-3464-4993-b8bd-175f6b18b38f"
      },
      "execution_count": 6,
      "outputs": [
        {
          "output_type": "execute_result",
          "data": {
            "text/plain": [
              "(tensor([[0.4567, 0.3866, 0.7882, 0.8157, 0.6266, 0.9783, 0.9567]]),\n",
              " torch.Size([1, 7]))"
            ]
          },
          "metadata": {},
          "execution_count": 6
        }
      ]
    },
    {
      "cell_type": "code",
      "source": [
        "tensorResult1 = torch.matmul(random_tensor, another_tensor)\n",
        "tensorResult1"
      ],
      "metadata": {
        "colab": {
          "base_uri": "https://localhost:8080/",
          "height": 158
        },
        "id": "RNSD9oBtddyW",
        "outputId": "4abe7893-73e5-4ad9-dee6-0c8c6e6a6f47"
      },
      "execution_count": 4,
      "outputs": [
        {
          "output_type": "error",
          "ename": "RuntimeError",
          "evalue": "mat1 and mat2 shapes cannot be multiplied (7x7 and 1x7)",
          "traceback": [
            "\u001b[0;31m---------------------------------------------------------------------------\u001b[0m",
            "\u001b[0;31mRuntimeError\u001b[0m                              Traceback (most recent call last)",
            "\u001b[0;32m<ipython-input-4-8a0dc9592c8c>\u001b[0m in \u001b[0;36m<cell line: 1>\u001b[0;34m()\u001b[0m\n\u001b[0;32m----> 1\u001b[0;31m \u001b[0mtensorResult1\u001b[0m \u001b[0;34m=\u001b[0m \u001b[0mtorch\u001b[0m\u001b[0;34m.\u001b[0m\u001b[0mmatmul\u001b[0m\u001b[0;34m(\u001b[0m\u001b[0mrandom_tensor\u001b[0m\u001b[0;34m,\u001b[0m \u001b[0manother_tensor\u001b[0m\u001b[0;34m)\u001b[0m\u001b[0;34m\u001b[0m\u001b[0;34m\u001b[0m\u001b[0m\n\u001b[0m\u001b[1;32m      2\u001b[0m \u001b[0mtensorResult1\u001b[0m\u001b[0;34m\u001b[0m\u001b[0;34m\u001b[0m\u001b[0m\n",
            "\u001b[0;31mRuntimeError\u001b[0m: mat1 and mat2 shapes cannot be multiplied (7x7 and 1x7)"
          ]
        }
      ]
    },
    {
      "cell_type": "code",
      "source": [
        "new_another = another_tensor.T\n",
        "new_another, new_another.shape"
      ],
      "metadata": {
        "colab": {
          "base_uri": "https://localhost:8080/"
        },
        "id": "lhCQ7s8yik8x",
        "outputId": "72d09e4a-30cf-4b1a-d748-5d420e7e8a59"
      },
      "execution_count": 7,
      "outputs": [
        {
          "output_type": "execute_result",
          "data": {
            "text/plain": [
              "(tensor([[0.4567],\n",
              "         [0.3866],\n",
              "         [0.7882],\n",
              "         [0.8157],\n",
              "         [0.6266],\n",
              "         [0.9783],\n",
              "         [0.9567]]),\n",
              " torch.Size([7, 1]))"
            ]
          },
          "metadata": {},
          "execution_count": 7
        }
      ]
    },
    {
      "cell_type": "code",
      "source": [
        "tensorResult1 = torch.matmul(random_tensor, new_another)\n",
        "tensorResult1, tensorResult1.shape"
      ],
      "metadata": {
        "colab": {
          "base_uri": "https://localhost:8080/"
        },
        "id": "tHJ0S0I3j7RS",
        "outputId": "40fac850-26c3-480d-c302-f6250c181945"
      },
      "execution_count": 9,
      "outputs": [
        {
          "output_type": "execute_result",
          "data": {
            "text/plain": [
              "(tensor([[2.5009],\n",
              "         [2.0547],\n",
              "         [1.3387],\n",
              "         [3.1284],\n",
              "         [1.6658],\n",
              "         [3.2186],\n",
              "         [1.8558]]),\n",
              " torch.Size([7, 1]))"
            ]
          },
          "metadata": {},
          "execution_count": 9
        }
      ]
    },
    {
      "cell_type": "markdown",
      "source": [],
      "metadata": {
        "id": "CWOGfiSucmyz"
      }
    },
    {
      "cell_type": "code",
      "source": [
        "# Set random seed to 0 and do exercises 2 & 3 over again\n",
        "\n",
        "import torch\n",
        "random_seed = 0\n",
        "\n",
        "torch.manual_seed(random_seed)\n",
        "random_tensor = torch.rand(7,7)\n",
        "random_tensor.shape\n",
        "\n",
        "torch.manual_seed(random_seed)\n",
        "another_tensor = torch.rand(1,7)\n",
        "another_transpose = another_tensor.T\n",
        "\n",
        "\n",
        "tensorResult1 = torch.matmul(random_tensor, another_transpose)\n",
        "tensorResult1, tensorResult1.shape"
      ],
      "metadata": {
        "colab": {
          "base_uri": "https://localhost:8080/"
        },
        "id": "Y17k1YvukAvc",
        "outputId": "82091f41-4154-4a12-fb21-55a60c03b7a7"
      },
      "execution_count": 10,
      "outputs": [
        {
          "output_type": "execute_result",
          "data": {
            "text/plain": [
              "(tensor([[1.5985],\n",
              "         [1.1173],\n",
              "         [1.2741],\n",
              "         [1.6838],\n",
              "         [0.8279],\n",
              "         [1.0347],\n",
              "         [1.2498]]),\n",
              " torch.Size([7, 1]))"
            ]
          },
          "metadata": {},
          "execution_count": 10
        }
      ]
    },
    {
      "cell_type": "code",
      "source": [
        "# Speaking of random seeds, we saw how to set it with torch.manual_seed() but is there a GPU equivalent?\n",
        " # (hint: you'll need to look into the documentation for torch.cuda for this one).\n",
        "# If there is, set the GPU random seed to 1234.\n",
        "\n",
        "gpu_random_seed = 1234\n",
        "gpu_random = torch.cuda.manual_seed(gpu_random_seed)\n",
        "print(gpu_random)\n",
        "\n",
        "\n",
        "\n"
      ],
      "metadata": {
        "colab": {
          "base_uri": "https://localhost:8080/"
        },
        "id": "7Kll9xKnpAy5",
        "outputId": "354310ac-6dba-4bbf-96af-b83b58203463"
      },
      "execution_count": 11,
      "outputs": [
        {
          "output_type": "stream",
          "name": "stdout",
          "text": [
            "None\n"
          ]
        }
      ]
    },
    {
      "cell_type": "code",
      "source": [
        "#Create two random tensors of shape (2, 3) and send them both to the GPU (you'll need access to a GPU for this).\n",
        "# Set torch.manual_seed(1234) when creating the tensors (this doesn't have to be the GPU random seed).\n",
        "\n",
        "import torch\n",
        "torch.manual_seed(1234)\n",
        "\n",
        "random_tensor = torch.rand(2,3)\n",
        "\n",
        "another_tensor = torch.rand(2,3)\n",
        "\n",
        "random_tensor.to(device='cuda'), another_tensor.to(device='cuda')"
      ],
      "metadata": {
        "colab": {
          "base_uri": "https://localhost:8080/"
        },
        "id": "M9CkyAJUQ8e3",
        "outputId": "f3171f8b-5dc8-4514-f417-5d2a3255688e"
      },
      "execution_count": 17,
      "outputs": [
        {
          "output_type": "execute_result",
          "data": {
            "text/plain": [
              "(tensor([[0.0290, 0.4019, 0.2598],\n",
              "         [0.3666, 0.0583, 0.7006]], device='cuda:0'),\n",
              " tensor([[0.0518, 0.4681, 0.6738],\n",
              "         [0.3315, 0.7837, 0.5631]], device='cuda:0'))"
            ]
          },
          "metadata": {},
          "execution_count": 17
        }
      ]
    },
    {
      "cell_type": "code",
      "source": [
        "#Perform a matrix multiplication on the tensors you created in 6 (again, you may have to adjust the shapes of one of the tensors\n",
        "\n",
        "matrix_mul_2 = torch.matmul(random_tensor, another_tensor.T)\n",
        "matrix_mul_2"
      ],
      "metadata": {
        "colab": {
          "base_uri": "https://localhost:8080/"
        },
        "id": "AyyuYCsX6i9z",
        "outputId": "52618a35-6dc5-486c-8279-8263fc2816d7"
      },
      "execution_count": 21,
      "outputs": [
        {
          "output_type": "execute_result",
          "data": {
            "text/plain": [
              "tensor([[0.3647, 0.4709],\n",
              "        [0.5184, 0.5617]])"
            ]
          },
          "metadata": {},
          "execution_count": 21
        }
      ]
    },
    {
      "cell_type": "code",
      "source": [
        "#Find the maximum and minimum values of the output of 7.\n",
        "matrix_mul_2.min(), matrix_mul_2.max()"
      ],
      "metadata": {
        "colab": {
          "base_uri": "https://localhost:8080/"
        },
        "id": "_THoDUl6V6qi",
        "outputId": "4e3baa16-9f7e-4848-ff80-5e91741f18b9"
      },
      "execution_count": 21,
      "outputs": [
        {
          "output_type": "execute_result",
          "data": {
            "text/plain": [
              "(tensor(0.0330), tensor(0.5584))"
            ]
          },
          "metadata": {},
          "execution_count": 21
        }
      ]
    },
    {
      "cell_type": "code",
      "source": [
        "#Find the maximum and minimum index values of the output of 7.\n",
        "matrix_mul_2.argmin(), matrix_mul_2.argmax()"
      ],
      "metadata": {
        "colab": {
          "base_uri": "https://localhost:8080/"
        },
        "id": "jkFPgCT7dsi_",
        "outputId": "030c8e6d-c2de-416f-871e-7efaa8f1ed98"
      },
      "execution_count": 44,
      "outputs": [
        {
          "output_type": "execute_result",
          "data": {
            "text/plain": [
              "(tensor(1), tensor(8))"
            ]
          },
          "metadata": {},
          "execution_count": 44
        }
      ]
    },
    {
      "cell_type": "code",
      "source": [
        "# Make a random tensor with shape (1, 1, 1, 10) and then create a new tensor with all the 1 dimensions removed to be left with a tensor of shape (10).\n",
        "# Set the seed to 7 when you create it and print out the first tensor and it's shape as well as the second tensor and it's shape.\n",
        "import torch\n",
        "set_seed = 7\n",
        "torch.manual_seed(set_seed)\n",
        "tensor_index = torch.rand(1, 1, 1, 10)\n",
        "\n",
        "torch.manual_seed(set_seed)\n",
        "tensor_to_squeeze = torch.rand(1, 1, 1, 10)\n",
        "\n",
        "\n",
        "squeezed_tensor = tensor_to_squeeze.squeeze().shape\n",
        "squeezed_tensor, tensor_index.shape"
      ],
      "metadata": {
        "colab": {
          "base_uri": "https://localhost:8080/"
        },
        "id": "wGdleWRsfp5U",
        "outputId": "2aaf00bb-6386-48e3-d383-bc1a40b26839"
      },
      "execution_count": 45,
      "outputs": [
        {
          "output_type": "execute_result",
          "data": {
            "text/plain": [
              "(torch.Size([10]), torch.Size([1, 1, 1, 10]))"
            ]
          },
          "metadata": {},
          "execution_count": 45
        }
      ]
    },
    {
      "cell_type": "code",
      "source": [],
      "metadata": {
        "id": "fYc2rFsCg6-E"
      },
      "execution_count": null,
      "outputs": []
    }
  ]
}