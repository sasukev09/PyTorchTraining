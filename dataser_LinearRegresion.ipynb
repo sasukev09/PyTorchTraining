{
  "nbformat": 4,
  "nbformat_minor": 0,
  "metadata": {
    "colab": {
      "provenance": [],
      "authorship_tag": "ABX9TyNVWsSaId61Mg0qDWGpN0J9"
    },
    "kernelspec": {
      "name": "python3",
      "display_name": "Python 3"
    },
    "language_info": {
      "name": "python"
    }
  },
  "cells": [
    {
      "cell_type": "code",
      "source": [
        "import torch\n",
        "from torch import nn # nn = neural networks\n",
        "import matplotlib.pyplot as plt\n",
        "\n",
        "torch.__version__"
      ],
      "metadata": {
        "colab": {
          "base_uri": "https://localhost:8080/",
          "height": 37
        },
        "id": "9E6LgpB_8kAf",
        "outputId": "ce42af08-54f7-4385-8d08-855580d44544"
      },
      "execution_count": 18,
      "outputs": [
        {
          "output_type": "execute_result",
          "data": {
            "text/plain": [
              "'2.3.1+cu121'"
            ],
            "application/vnd.google.colaboratory.intrinsic+json": {
              "type": "string"
            }
          },
          "metadata": {},
          "execution_count": 18
        }
      ]
    },
    {
      "cell_type": "code",
      "execution_count": 19,
      "metadata": {
        "colab": {
          "base_uri": "https://localhost:8080/"
        },
        "id": "TV3boN-wd1Rm",
        "outputId": "62304175-d782-4de5-c283-017b489465fa"
      },
      "outputs": [
        {
          "output_type": "stream",
          "name": "stdout",
          "text": [
            "Input numbers:\n",
            " tensor([[0.0000],\n",
            "        [0.0200],\n",
            "        [0.0400],\n",
            "        [0.0600],\n",
            "        [0.0800],\n",
            "        [0.1000],\n",
            "        [0.1200],\n",
            "        [0.1400],\n",
            "        [0.1600],\n",
            "        [0.1800]])\n",
            " Output numbers:\n",
            " tensor([[0.3000],\n",
            "        [0.3140],\n",
            "        [0.3280],\n",
            "        [0.3420],\n",
            "        [0.3560],\n",
            "        [0.3700],\n",
            "        [0.3840],\n",
            "        [0.3980],\n",
            "        [0.4120],\n",
            "        [0.4260]]) \n",
            "(50, 50)\n"
          ]
        }
      ],
      "source": [
        "# Parameters \"known\" are created\n",
        "# build a model that estimates thse numbers\n",
        "import torch\n",
        "\n",
        "weight = 0.7\n",
        "bias = 0.3\n",
        "\n",
        "\n",
        "#create numbers\n",
        "start = 0\n",
        "end = 1\n",
        "\n",
        "#gap of a step\n",
        "step = 0.02\n",
        "\n",
        "# X is INPUT a matrix or a tensor, capitol . Lowercase is a vector\n",
        "X = torch.arange(start, end, step).unsqueeze(dim=1) #unsqueeze adds extra dim\n",
        "\n",
        "# IDEAL OUTPUT y, this case a linear regression formula\n",
        "y = weight * X + bias\n",
        "\n",
        "print(f\"Input numbers:\\n {X[:10]}\\n Output numbers:\\n {y[:10]} \\n{len(X), len(y)}\")"
      ]
    },
    {
      "cell_type": "code",
      "source": [
        "# We split the data into training and test sets\n",
        "# One of the most important concepts in machine learning in general\n",
        "train_split = int(0.8 * len(X))\n",
        "\n",
        "# creating train and test sets, notice index notation\n",
        "# getting everything before & after train_split (40)\n",
        "X_train, y_train = X[:train_split], y[:train_split] # 0-40 = 40\n",
        "X_test, y_test = X[train_split:], y[train_split:] # 40-50 = 10\n",
        "\n",
        "len(X_train), len(y_train), len(X_test), len(y_test)\n",
        "\n"
      ],
      "metadata": {
        "colab": {
          "base_uri": "https://localhost:8080/"
        },
        "id": "Q_UNubkUyuqP",
        "outputId": "7a8039f3-2ceb-42ed-a5b4-1590f1e34765"
      },
      "execution_count": 20,
      "outputs": [
        {
          "output_type": "execute_result",
          "data": {
            "text/plain": [
              "(40, 40, 10, 10)"
            ]
          },
          "metadata": {},
          "execution_count": 20
        }
      ]
    },
    {
      "cell_type": "code",
      "source": [
        "# Numerical representation of our test and train data for features and labels\n",
        "X_train, X_test, y_train, y_test"
      ],
      "metadata": {
        "colab": {
          "base_uri": "https://localhost:8080/"
        },
        "collapsed": true,
        "id": "FxAwwHdQ9cSA",
        "outputId": "8dcb23ee-83e3-4a96-e89e-2e2bf1283892"
      },
      "execution_count": 21,
      "outputs": [
        {
          "output_type": "execute_result",
          "data": {
            "text/plain": [
              "(tensor([[0.0000],\n",
              "         [0.0200],\n",
              "         [0.0400],\n",
              "         [0.0600],\n",
              "         [0.0800],\n",
              "         [0.1000],\n",
              "         [0.1200],\n",
              "         [0.1400],\n",
              "         [0.1600],\n",
              "         [0.1800],\n",
              "         [0.2000],\n",
              "         [0.2200],\n",
              "         [0.2400],\n",
              "         [0.2600],\n",
              "         [0.2800],\n",
              "         [0.3000],\n",
              "         [0.3200],\n",
              "         [0.3400],\n",
              "         [0.3600],\n",
              "         [0.3800],\n",
              "         [0.4000],\n",
              "         [0.4200],\n",
              "         [0.4400],\n",
              "         [0.4600],\n",
              "         [0.4800],\n",
              "         [0.5000],\n",
              "         [0.5200],\n",
              "         [0.5400],\n",
              "         [0.5600],\n",
              "         [0.5800],\n",
              "         [0.6000],\n",
              "         [0.6200],\n",
              "         [0.6400],\n",
              "         [0.6600],\n",
              "         [0.6800],\n",
              "         [0.7000],\n",
              "         [0.7200],\n",
              "         [0.7400],\n",
              "         [0.7600],\n",
              "         [0.7800]]),\n",
              " tensor([[0.8000],\n",
              "         [0.8200],\n",
              "         [0.8400],\n",
              "         [0.8600],\n",
              "         [0.8800],\n",
              "         [0.9000],\n",
              "         [0.9200],\n",
              "         [0.9400],\n",
              "         [0.9600],\n",
              "         [0.9800]]),\n",
              " tensor([[0.3000],\n",
              "         [0.3140],\n",
              "         [0.3280],\n",
              "         [0.3420],\n",
              "         [0.3560],\n",
              "         [0.3700],\n",
              "         [0.3840],\n",
              "         [0.3980],\n",
              "         [0.4120],\n",
              "         [0.4260],\n",
              "         [0.4400],\n",
              "         [0.4540],\n",
              "         [0.4680],\n",
              "         [0.4820],\n",
              "         [0.4960],\n",
              "         [0.5100],\n",
              "         [0.5240],\n",
              "         [0.5380],\n",
              "         [0.5520],\n",
              "         [0.5660],\n",
              "         [0.5800],\n",
              "         [0.5940],\n",
              "         [0.6080],\n",
              "         [0.6220],\n",
              "         [0.6360],\n",
              "         [0.6500],\n",
              "         [0.6640],\n",
              "         [0.6780],\n",
              "         [0.6920],\n",
              "         [0.7060],\n",
              "         [0.7200],\n",
              "         [0.7340],\n",
              "         [0.7480],\n",
              "         [0.7620],\n",
              "         [0.7760],\n",
              "         [0.7900],\n",
              "         [0.8040],\n",
              "         [0.8180],\n",
              "         [0.8320],\n",
              "         [0.8460]]),\n",
              " tensor([[0.8600],\n",
              "         [0.8740],\n",
              "         [0.8880],\n",
              "         [0.9020],\n",
              "         [0.9160],\n",
              "         [0.9300],\n",
              "         [0.9440],\n",
              "         [0.9580],\n",
              "         [0.9720],\n",
              "         [0.9860]]))"
            ]
          },
          "metadata": {},
          "execution_count": 21
        }
      ]
    },
    {
      "cell_type": "code",
      "source": [
        "# Making a function to represent the train and test data more accurately\n",
        "\n",
        "def plot_predictions(train_data = X_train,\n",
        "                    train_labels = y_train,\n",
        "                    test_data = X_test,\n",
        "                    test_labels = y_test,\n",
        "                    predictions = None):\n",
        "\n",
        "  \"\"\"Plotting training & test data, along with comparing predictions. \"\"\"\n",
        "  plt.figure(figsize=(10, 7))\n",
        "\n",
        "  #train data in blue\n",
        "  plt.scatter(train_data, train_labels, c = 'orange', s=4, label= 'Training Data')\n",
        "\n",
        "  #test data in green\n",
        "  plt.scatter(test_data, test_labels, c = 'purple', s=4, label= 'Testing Data')\n",
        "\n",
        "  # Checking if predictions exist\n",
        "  if predictions is not None:\n",
        "\n",
        "    #if they do plot the predictions, compared to test labels\n",
        "    plt.scatter(test_data, predictions, c='r', s=4, label='Predictions')\n",
        "\n",
        "  # Show the legend A legend in an axes is an area that describes the elements of a graph.\n",
        "  plt.legend(prop={\"size\" : 14});"
      ],
      "metadata": {
        "id": "iWTBAAu2-EPs"
      },
      "execution_count": 22,
      "outputs": []
    },
    {
      "cell_type": "code",
      "source": [
        "plot_predictions() # No red dots because there are no predictions\n",
        "\n",
        "\"\"\" Our dataset, training data in orage, testing data in purple, and predictions in red \"\"\"\n",
        "\"\"\" No predictions yet so no red dots\n",
        "    Make a model that learns the pattern of the orange dots\n",
        "    If we fit the model, the X values of the purple dots can predict the Y values of the purple dots\n",
        "    Pass model X test to predict Y test\n",
        "    Orange dots are input, Purple are ideal outputs\n",
        "    A perfect model would have red dots over the purple dots\"\"\""
      ],
      "metadata": {
        "colab": {
          "base_uri": "https://localhost:8080/",
          "height": 553
        },
        "id": "l_tkEgUYFCeU",
        "outputId": "2b6a7dd5-c6ad-4f37-e97b-ff035a9a62e1"
      },
      "execution_count": 23,
      "outputs": [
        {
          "output_type": "execute_result",
          "data": {
            "text/plain": [
              "' No predictions yet so no red dots\\n    Make a model that learns the pattern of the orange dots\\n    If we fit the model, the X values of the purple dots can predict the Y values of the purple dots\\n    Pass model X test to predict Y test\\n    Orange dots are input, Purple are ideal outputs\\n    A perfect model would have red dots over the purple dots'"
            ],
            "application/vnd.google.colaboratory.intrinsic+json": {
              "type": "string"
            }
          },
          "metadata": {},
          "execution_count": 23
        },
        {
          "output_type": "display_data",
          "data": {
            "text/plain": [
              "<Figure size 1000x700 with 1 Axes>"
            ],
            "image/png": "[encoded data removed]"
          },
          "metadata": {}
        }
      ]
    },
    {
      "cell_type": "markdown",
      "source": [
        "Building a Model"
      ],
      "metadata": {
        "id": "DW9FoYs9JiMZ"
      }
    },
    {
      "cell_type": "code",
      "source": [
        "\"\"\" We created a relationship between X and y, the weight and bias through\n",
        "the linear regression formula is y = weight * X + bias\n",
        "gradient (weight) and bias (gradient)\n",
        "\n",
        "\n",
        "Using linear regression Y = a + b*X   a=weight, b=bias\n",
        "We need to create a mdoel that has a parameter for a and a parameter for b\n",
        "\"\"\""
      ],
      "metadata": {
        "colab": {
          "base_uri": "https://localhost:8080/",
          "height": 92
        },
        "id": "FWIfn0DHJhsa",
        "outputId": "d98857a2-064a-4ecc-957c-77dbd86fbd4e"
      },
      "execution_count": 24,
      "outputs": [
        {
          "output_type": "execute_result",
          "data": {
            "text/plain": [
              "' We created a relationship between X and y, the weight and bias through\\nthe linear regression formula is y = weight * X + bias\\ngradient (weight) and bias (gradient)\\n\\n\\nUsing linear regression Y = a + b*X   a=weight, b=bias\\nWe need to create a mdoel that has a parameter for a and a parameter for b\\n'"
            ],
            "application/vnd.google.colaboratory.intrinsic+json": {
              "type": "string"
            }
          },
          "metadata": {},
          "execution_count": 24
        }
      ]
    },
    {
      "cell_type": "code",
      "source": [
        "from torch import nn\n",
        "\n",
        "# creating a linear reg model class, using nn.Module chech toch.nn.Module for more info\n",
        "class LinearRegressionModel(nn.Module): # inherit from nn.Module, most things in PyTorch inherit from this.\n",
        " def __init__(self): # constructor taking self as a parameter\n",
        "    super().__init__()\n",
        "\n",
        "    #creating parameters\n",
        "    self.weights = nn.Parameter(torch.randn(1, requires_grad=True, dtype=torch.float))\n",
        "    self.bias = nn.Parameter(torch.randn(1, requires_grad=True, dtype=torch.float))\n",
        "\n",
        "  # Method to deifne computation in the model\n",
        "  #parameter x is expected to be a torch.Tensor and return a torch.Tensor\n",
        " def forward(self, x: torch.Tensor) -> torch.Tensor: # x is input data\n",
        "    return self.weights * x + self.bias\n",
        "\n",
        "    \"\"\" The model starts with random parameters both 'self' parameters, then it looks at the data training samples in this case\n",
        "        and then it computers and updates those random numbers to represent the pattern in the data graphed.\n",
        "        Random values from weight and bias will be put through the foward function.\n",
        "        It takes the weight and bias and it runs through the 'forward' calculation which is the same formula that we used\n",
        "        to create our data, this to represent as close as possible, if not perfect the known parameters (0.7 and 0.3)\n",
        "        Utilizing gradient descent algorithm \"\"\"\n"
      ],
      "metadata": {
        "id": "UHfzdYo9NPYh"
      },
      "execution_count": 25,
      "outputs": []
    },
    {
      "cell_type": "code",
      "source": [
        " ## Model building essentials from PyTorch\n",
        " '''\n",
        " -torch.nn = contains buildings for computational graphs (neural netword could be considered a computational graph)\n",
        " -torh.nn.Parameter = What paremeters should be tried on and learned by our models (commonly a PyTorch layer form torch.nn will set these for us)\n",
        " -torch.nn.Module = Base class for entirety of neural network modules in PyTorch (if subclassedm should overwrite forward)\n",
        " -torch.optim = You can find optimizers here. they are an aid with gradient descent algorithms.\n",
        " -def forward() = Defines computation in the model, all nn.Module subclasses require you to overwrite this method\n",
        " -torch.utils.data.Dataset = Represents a map between key & sample (label &features) pairs of your data. (e.g. images & associataed labels)\n",
        " -torch.utils.data.DataLoader = Creates python iterable over a torch dataset(allowing yo iterate over your data)\n",
        "\n",
        " review PyTorch cheaet sheet for more info\n",
        " '''"
      ],
      "metadata": {
        "colab": {
          "base_uri": "https://localhost:8080/",
          "height": 236
        },
        "id": "CFQURGI1RNr_",
        "outputId": "2322bb33-fb9e-4241-cfdc-317df40c1a71"
      },
      "execution_count": 26,
      "outputs": [
        {
          "output_type": "execute_result",
          "data": {
            "text/plain": [
              "'\\n-torch.nn = contains buildings for computational graphs (neural netword could be considered a computational graph)\\n-torh.nn.Parameter = What paremeters should be tried on and learned by our models (commonly a PyTorch layer form torch.nn will set these for us)\\n-torch.nn.Module = Base class for entirety of neural network modules in PyTorch (if subclassedm should overwrite forward)\\n-torch.optim = You can find optimizers here. they are an aid with gradient descent algorithms.\\n-def forward() = Defines computation in the model, all nn.Module subclasses require you to overwrite this method\\n-torch.utils.data.Dataset = Represents a map between key & sample (label &features) pairs of your data. (e.g. images & associataed labels)\\n-torch.utils.data.DataLoader = Creates python iterable over a torch dataset(allowing yo iterate over your data)\\n\\nreview PyTorch cheaet sheet for more info\\n'"
            ],
            "application/vnd.google.colaboratory.intrinsic+json": {
              "type": "string"
            }
          },
          "metadata": {},
          "execution_count": 26
        }
      ]
    },
    {
      "cell_type": "code",
      "source": [
        "# CHECKING CONTENTS of our recently created model\n",
        "'''\n",
        "This is done by using .parameters() method\n",
        "'''"
      ],
      "metadata": {
        "colab": {
          "base_uri": "https://localhost:8080/",
          "height": 37
        },
        "id": "zskHtt9EzCq7",
        "outputId": "640d5adc-d32c-4874-b57d-2f3bcdf5ce02"
      },
      "execution_count": 27,
      "outputs": [
        {
          "output_type": "execute_result",
          "data": {
            "text/plain": [
              "'\\nThis is done by using .parameters() method\\n'"
            ],
            "application/vnd.google.colaboratory.intrinsic+json": {
              "type": "string"
            }
          },
          "metadata": {},
          "execution_count": 27
        }
      ]
    },
    {
      "cell_type": "code",
      "source": [
        "# Creating a random seed because the parameters are cerated with random values\n",
        "# If there's no random seed, we'd get different values every time\n",
        "# We need a manual seed in this case\n",
        "torch.manual_seed(42)\n",
        "\n",
        "#Creating an instance of the linear regression model class (this is a subclass of nn.Module)\n",
        "first_model = LinearRegressionModel()\n",
        "\n",
        "# checking parameters of model\n",
        "print(f'Without a list {first_model.parameters()}')\n",
        "print(f'With a list \\n {list(first_model.parameters())}')"
      ],
      "metadata": {
        "colab": {
          "base_uri": "https://localhost:8080/"
        },
        "id": "Ec3AD43c0zCk",
        "outputId": "eaf359a4-5470-4be0-8e12-13c50fead8ec"
      },
      "execution_count": 28,
      "outputs": [
        {
          "output_type": "stream",
          "name": "stdout",
          "text": [
            "Without a list <generator object Module.parameters at 0x786cadf49cb0>\n",
            "With a list \n",
            " [Parameter containing:\n",
            "tensor([0.3367], requires_grad=True), Parameter containing:\n",
            "tensor([0.1288], requires_grad=True)]\n"
          ]
        }
      ]
    },
    {
      "cell_type": "code",
      "source": [
        "# Listing named parameters, we can see the random weight & bias here\n",
        "first_model.state_dict()"
      ],
      "metadata": {
        "colab": {
          "base_uri": "https://localhost:8080/"
        },
        "id": "YLrlQ77247-u",
        "outputId": "edfa653d-6806-49b7-8111-f24a6250a53f"
      },
      "execution_count": 36,
      "outputs": [
        {
          "output_type": "execute_result",
          "data": {
            "text/plain": [
              "OrderedDict([('weights', tensor([0.3367])), ('bias', tensor([0.1288]))])"
            ]
          },
          "metadata": {},
          "execution_count": 36
        }
      ]
    },
    {
      "cell_type": "code",
      "source": [
        "# We need to take previous random weight & bias to the set ones, only in this case\n",
        "# usually there are no set weight&bias values\n",
        "weight, bias"
      ],
      "metadata": {
        "colab": {
          "base_uri": "https://localhost:8080/"
        },
        "id": "78lLlr3d9Z6Y",
        "outputId": "60b61b7d-e658-4406-d5fd-b7c1af983a80"
      },
      "execution_count": 37,
      "outputs": [
        {
          "output_type": "execute_result",
          "data": {
            "text/plain": [
              "(0.7, 0.3)"
            ]
          },
          "metadata": {},
          "execution_count": 37
        }
      ]
    },
    {
      "cell_type": "code",
      "source": [
        "# Prediction making\n",
        "\n",
        "'''\n",
        "We will see how well it predicts 'y_test' based on 'X_test'\n",
        "Passing data through the model (using the forward method), will return a prediction\n",
        "'''\n",
        "\n",
        "with torch.inference_mode():\n",
        "  y_preds = first_model(X_test)\n",
        "#passing x test data through the instance model\n",
        " #it will take x_test values as input and will return y_test values as result\n",
        "y_preds"
      ],
      "metadata": {
        "colab": {
          "base_uri": "https://localhost:8080/"
        },
        "id": "CgW_GfR1-q1o",
        "outputId": "efaf39ae-2bb8-47a8-cb5f-102037ec3fe4"
      },
      "execution_count": 43,
      "outputs": [
        {
          "output_type": "execute_result",
          "data": {
            "text/plain": [
              "tensor([[0.3982],\n",
              "        [0.4049],\n",
              "        [0.4116],\n",
              "        [0.4184],\n",
              "        [0.4251],\n",
              "        [0.4318],\n",
              "        [0.4386],\n",
              "        [0.4453],\n",
              "        [0.4520],\n",
              "        [0.4588]])"
            ]
          },
          "metadata": {},
          "execution_count": 43
        }
      ]
    },
    {
      "cell_type": "code",
      "source": [
        "#\n",
        "# Same operation with no inference mode\n",
        "#y_preds = first_model(X_test)\n",
        "#y_preds"
      ],
      "metadata": {
        "id": "F7rqGL4g1ngk"
      },
      "execution_count": 44,
      "outputs": []
    },
    {
      "cell_type": "code",
      "source": [
        "# comparing predictions with actual results\n",
        "y_test, y_preds"
      ],
      "metadata": {
        "colab": {
          "base_uri": "https://localhost:8080/"
        },
        "id": "GP2IYyPlHZLO",
        "outputId": "ed3cec9a-9176-47aa-e76f-4021a408d9ce"
      },
      "execution_count": 45,
      "outputs": [
        {
          "output_type": "execute_result",
          "data": {
            "text/plain": [
              "(tensor([[0.8600],\n",
              "         [0.8740],\n",
              "         [0.8880],\n",
              "         [0.9020],\n",
              "         [0.9160],\n",
              "         [0.9300],\n",
              "         [0.9440],\n",
              "         [0.9580],\n",
              "         [0.9720],\n",
              "         [0.9860]]),\n",
              " tensor([[0.3982],\n",
              "         [0.4049],\n",
              "         [0.4116],\n",
              "         [0.4184],\n",
              "         [0.4251],\n",
              "         [0.4318],\n",
              "         [0.4386],\n",
              "         [0.4453],\n",
              "         [0.4520],\n",
              "         [0.4588]]))"
            ]
          },
          "metadata": {},
          "execution_count": 45
        }
      ]
    },
    {
      "cell_type": "code",
      "source": [
        "# plotting the predictions\n",
        "plot_predictions(predictions=y_preds)"
      ],
      "metadata": {
        "colab": {
          "base_uri": "https://localhost:8080/",
          "height": 461
        },
        "id": "2vh9TyLQv2I4",
        "outputId": "06bb9a83-0035-4d81-a1de-e57af9ec59ca"
      },
      "execution_count": 46,
      "outputs": [
        {
          "output_type": "display_data",
          "data": {
            "text/plain": [
              "<Figure size 1000x700 with 1 Axes>"
            ],
            "image/png": "[encoded data removed]"
          },
          "metadata": {}
        }
      ]
    },
    {
      "cell_type": "markdown",
      "source": [
        "# 3. Training the model\n",
        "## The idea of training is for the model to go from some unknown parameters (that could be random) to actively known parameters.\n",
        "\n",
        "## Go from a poor representation of data (y_test & y_preds graphed) to a better one\n",
        "\n",
        "## Loss/Cost/Criterion functions can measure how poor or how wrong your model predictions are.\n",
        "\n",
        "## A loss fucntion is a function that measures how wrong your model's predictions are to the ideal outputs, the lower the better"
      ],
      "metadata": {
        "id": "gl8J-AKKI1Fv"
      }
    }
  ]
}