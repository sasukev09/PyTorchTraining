{
  "nbformat": 4,
  "nbformat_minor": 0,
  "metadata": {
    "colab": {
      "provenance": [],
      "authorship_tag": "ABX9TyOWbosNhm3ZxlQHCVX44t1F"
    },
    "kernelspec": {
      "name": "python3",
      "display_name": "Python 3"
    },
    "language_info": {
      "name": "python"
    }
  },
  "cells": [
    {
      "cell_type": "code",
      "source": [
        "import torch\n",
        "from torch import nn # nn = neural networks\n",
        "import matplotlib.pyplot as plt\n",
        "\n",
        "torch.__version__"
      ],
      "metadata": {
        "colab": {
          "base_uri": "https://localhost:8080/",
          "height": 38
        },
        "id": "9E6LgpB_8kAf",
        "outputId": "4064705b-1c6c-4071-b5ad-72ba8a206d64"
      },
      "execution_count": 41,
      "outputs": [
        {
          "output_type": "execute_result",
          "data": {
            "text/plain": [
              "'2.4.0+cu121'"
            ],
            "application/vnd.google.colaboratory.intrinsic+json": {
              "type": "string"
            }
          },
          "metadata": {},
          "execution_count": 41
        }
      ]
    },
    {
      "cell_type": "code",
      "execution_count": 42,
      "metadata": {
        "colab": {
          "base_uri": "https://localhost:8080/"
        },
        "id": "TV3boN-wd1Rm",
        "outputId": "d2398b29-b849-49fe-c03e-e04390b8030f"
      },
      "outputs": [
        {
          "output_type": "stream",
          "name": "stdout",
          "text": [
            "Input numbers:\n",
            " tensor([[0.0000],\n",
            "        [0.0200],\n",
            "        [0.0400],\n",
            "        [0.0600],\n",
            "        [0.0800],\n",
            "        [0.1000],\n",
            "        [0.1200],\n",
            "        [0.1400],\n",
            "        [0.1600],\n",
            "        [0.1800]])\n",
            " Output numbers:\n",
            " tensor([[0.3000],\n",
            "        [0.3140],\n",
            "        [0.3280],\n",
            "        [0.3420],\n",
            "        [0.3560],\n",
            "        [0.3700],\n",
            "        [0.3840],\n",
            "        [0.3980],\n",
            "        [0.4120],\n",
            "        [0.4260]]) \n",
            "(50, 50)\n"
          ]
        }
      ],
      "source": [
        "# Parameters \"known\" are created\n",
        "# build a model that estimates thse numbers\n",
        "import torch\n",
        "\n",
        "weight = 0.7\n",
        "bias = 0.3\n",
        "\n",
        "\n",
        "#create numbers\n",
        "start = 0\n",
        "end = 1\n",
        "\n",
        "#gap of a step\n",
        "step = 0.02\n",
        "\n",
        "# X is INPUT a matrix or a tensor, capitol . Lowercase is a vector\n",
        "X = torch.arange(start, end, step).unsqueeze(dim=1) #unsqueeze adds extra dim\n",
        "\n",
        "# IDEAL OUTPUT y, this case a linear regression formula\n",
        "y = weight * X + bias\n",
        "\n",
        "print(f\"Input numbers:\\n {X[:10]}\\n Output numbers:\\n {y[:10]} \\n{len(X), len(y)}\")"
      ]
    },
    {
      "cell_type": "code",
      "source": [
        "# We split the data into training and test sets\n",
        "# One of the most important concepts in machine learning in general\n",
        "train_split = int(0.8 * len(X))\n",
        "\n",
        "# creating train and test sets, notice index notation\n",
        "# getting everything before & after train_split (40)\n",
        "X_train, y_train = X[:train_split], y[:train_split] # 0-40 = 40\n",
        "X_test, y_test = X[train_split:], y[train_split:] # 40-50 = 10\n",
        "\n",
        "len(X_train), len(y_train), len(X_test), len(y_test)\n",
        "\n"
      ],
      "metadata": {
        "colab": {
          "base_uri": "https://localhost:8080/"
        },
        "id": "Q_UNubkUyuqP",
        "outputId": "25a4b37f-8038-4951-9c13-10239d3e3547"
      },
      "execution_count": 43,
      "outputs": [
        {
          "output_type": "execute_result",
          "data": {
            "text/plain": [
              "(40, 40, 10, 10)"
            ]
          },
          "metadata": {},
          "execution_count": 43
        }
      ]
    },
    {
      "cell_type": "code",
      "source": [
        "# Numerical representation of our test and train data for features and labels\n",
        "X_train, X_test, y_train, y_test"
      ],
      "metadata": {
        "colab": {
          "base_uri": "https://localhost:8080/"
        },
        "collapsed": true,
        "id": "FxAwwHdQ9cSA",
        "outputId": "c7d108c6-4fcf-4870-e500-f0cbc3799eda"
      },
      "execution_count": 44,
      "outputs": [
        {
          "output_type": "execute_result",
          "data": {
            "text/plain": [
              "(tensor([[0.0000],\n",
              "         [0.0200],\n",
              "         [0.0400],\n",
              "         [0.0600],\n",
              "         [0.0800],\n",
              "         [0.1000],\n",
              "         [0.1200],\n",
              "         [0.1400],\n",
              "         [0.1600],\n",
              "         [0.1800],\n",
              "         [0.2000],\n",
              "         [0.2200],\n",
              "         [0.2400],\n",
              "         [0.2600],\n",
              "         [0.2800],\n",
              "         [0.3000],\n",
              "         [0.3200],\n",
              "         [0.3400],\n",
              "         [0.3600],\n",
              "         [0.3800],\n",
              "         [0.4000],\n",
              "         [0.4200],\n",
              "         [0.4400],\n",
              "         [0.4600],\n",
              "         [0.4800],\n",
              "         [0.5000],\n",
              "         [0.5200],\n",
              "         [0.5400],\n",
              "         [0.5600],\n",
              "         [0.5800],\n",
              "         [0.6000],\n",
              "         [0.6200],\n",
              "         [0.6400],\n",
              "         [0.6600],\n",
              "         [0.6800],\n",
              "         [0.7000],\n",
              "         [0.7200],\n",
              "         [0.7400],\n",
              "         [0.7600],\n",
              "         [0.7800]]),\n",
              " tensor([[0.8000],\n",
              "         [0.8200],\n",
              "         [0.8400],\n",
              "         [0.8600],\n",
              "         [0.8800],\n",
              "         [0.9000],\n",
              "         [0.9200],\n",
              "         [0.9400],\n",
              "         [0.9600],\n",
              "         [0.9800]]),\n",
              " tensor([[0.3000],\n",
              "         [0.3140],\n",
              "         [0.3280],\n",
              "         [0.3420],\n",
              "         [0.3560],\n",
              "         [0.3700],\n",
              "         [0.3840],\n",
              "         [0.3980],\n",
              "         [0.4120],\n",
              "         [0.4260],\n",
              "         [0.4400],\n",
              "         [0.4540],\n",
              "         [0.4680],\n",
              "         [0.4820],\n",
              "         [0.4960],\n",
              "         [0.5100],\n",
              "         [0.5240],\n",
              "         [0.5380],\n",
              "         [0.5520],\n",
              "         [0.5660],\n",
              "         [0.5800],\n",
              "         [0.5940],\n",
              "         [0.6080],\n",
              "         [0.6220],\n",
              "         [0.6360],\n",
              "         [0.6500],\n",
              "         [0.6640],\n",
              "         [0.6780],\n",
              "         [0.6920],\n",
              "         [0.7060],\n",
              "         [0.7200],\n",
              "         [0.7340],\n",
              "         [0.7480],\n",
              "         [0.7620],\n",
              "         [0.7760],\n",
              "         [0.7900],\n",
              "         [0.8040],\n",
              "         [0.8180],\n",
              "         [0.8320],\n",
              "         [0.8460]]),\n",
              " tensor([[0.8600],\n",
              "         [0.8740],\n",
              "         [0.8880],\n",
              "         [0.9020],\n",
              "         [0.9160],\n",
              "         [0.9300],\n",
              "         [0.9440],\n",
              "         [0.9580],\n",
              "         [0.9720],\n",
              "         [0.9860]]))"
            ]
          },
          "metadata": {},
          "execution_count": 44
        }
      ]
    },
    {
      "cell_type": "code",
      "source": [
        "# Making a function to represent the train and test data more accurately\n",
        "\n",
        "def plot_predictions(train_data = X_train,\n",
        "                    train_labels = y_train,\n",
        "                    test_data = X_test,\n",
        "                    test_labels = y_test,\n",
        "                    predictions = None):\n",
        "\n",
        "  \"\"\"Plotting training & test data, along with comparing predictions. \"\"\"\n",
        "  plt.figure(figsize=(10, 7))\n",
        "\n",
        "  #train data in blue\n",
        "  plt.scatter(train_data, train_labels, c = 'orange', s=4, label= 'Training Data')\n",
        "\n",
        "  #test data in green\n",
        "  plt.scatter(test_data, test_labels, c = 'purple', s=4, label= 'Testing Data')\n",
        "\n",
        "  # Checking if predictions exist\n",
        "  if predictions is not None:\n",
        "\n",
        "    #if they do plot the predictions, compared to test labels\n",
        "    plt.scatter(test_data, predictions, c='r', s=4, label='Predictions')\n",
        "\n",
        "  # Show the legend A legend in an axes is an area that describes the elements of a graph.\n",
        "  plt.legend(prop={\"size\" : 14});"
      ],
      "metadata": {
        "id": "iWTBAAu2-EPs"
      },
      "execution_count": 45,
      "outputs": []
    },
    {
      "cell_type": "code",
      "source": [
        "plot_predictions() # No red dots because there are no predictions\n",
        "\n",
        "\"\"\" Our dataset, training data in orage, testing data in purple, and predictions in red \"\"\"\n",
        "\"\"\" No predictions yet so no red dots\n",
        "    Make a model that learns the pattern of the orange dots\n",
        "    If we fit the model, the X values of the purple dots can predict the Y values of the purple dots\n",
        "    Pass model X test to predict Y test\n",
        "    Orange dots are input, Purple are ideal outputs\n",
        "    A perfect model would have red dots over the purple dots\"\"\""
      ],
      "metadata": {
        "colab": {
          "base_uri": "https://localhost:8080/",
          "height": 605
        },
        "id": "l_tkEgUYFCeU",
        "outputId": "db7176b6-3564-4e05-e174-3c12f4850fd4"
      },
      "execution_count": 46,
      "outputs": [
        {
          "output_type": "execute_result",
          "data": {
            "text/plain": [
              "' No predictions yet so no red dots\\n    Make a model that learns the pattern of the orange dots\\n    If we fit the model, the X values of the purple dots can predict the Y values of the purple dots\\n    Pass model X test to predict Y test\\n    Orange dots are input, Purple are ideal outputs\\n    A perfect model would have red dots over the purple dots'"
            ],
            "application/vnd.google.colaboratory.intrinsic+json": {
              "type": "string"
            }
          },
          "metadata": {},
          "execution_count": 46
        },
        {
          "output_type": "display_data",
          "data": {
            "text/plain": [
              "<Figure size 1000x700 with 1 Axes>"
            ],
            "image/png": "[encoded data removed]"
          },
          "metadata": {}
        }
      ]
    },
    {
      "cell_type": "markdown",
      "source": [
        "Building a Model"
      ],
      "metadata": {
        "id": "DW9FoYs9JiMZ"
      }
    },
    {
      "cell_type": "code",
      "source": [
        "\"\"\" We created a relationship between X and y, the weight and bias through\n",
        "the linear regression formula is y = weight * X + bias\n",
        "gradient (weight) and bias (gradient)\n",
        "\n",
        "\n",
        "Using linear regression Y = a + b*X   a=weight, b=bias\n",
        "We need to create a mdoel that has a parameter for a and a parameter for b\n",
        "\"\"\""
      ],
      "metadata": {
        "colab": {
          "base_uri": "https://localhost:8080/",
          "height": 93
        },
        "id": "FWIfn0DHJhsa",
        "outputId": "7afd3285-9669-43f9-f830-0fa383c13aae"
      },
      "execution_count": 47,
      "outputs": [
        {
          "output_type": "execute_result",
          "data": {
            "text/plain": [
              "' We created a relationship between X and y, the weight and bias through\\nthe linear regression formula is y = weight * X + bias\\ngradient (weight) and bias (gradient)\\n\\n\\nUsing linear regression Y = a + b*X   a=weight, b=bias\\nWe need to create a mdoel that has a parameter for a and a parameter for b\\n'"
            ],
            "application/vnd.google.colaboratory.intrinsic+json": {
              "type": "string"
            }
          },
          "metadata": {},
          "execution_count": 47
        }
      ]
    },
    {
      "cell_type": "code",
      "source": [
        "from torch import nn\n",
        "\n",
        "# creating a linear reg model class, using nn.Module chech toch.nn.Module for more info\n",
        "class LinearRegressionModel(nn.Module): # inherit from nn.Module, most things in PyTorch inherit from this.\n",
        " def __init__(self): # constructor taking self as a parameter\n",
        "    super().__init__()\n",
        "\n",
        "    #creating parameters\n",
        "    self.weights = nn.Parameter(torch.randn(1, requires_grad=True, dtype=torch.float))\n",
        "    self.bias = nn.Parameter(torch.randn(1, requires_grad=True, dtype=torch.float))\n",
        "\n",
        "  # Method to deifne computation in the model\n",
        "  #parameter x is expected to be a torch.Tensor and return a torch.Tensor\n",
        " def forward(self, x: torch.Tensor) -> torch.Tensor: # x is input data\n",
        "    return self.weights * x + self.bias\n",
        "\n",
        "    \"\"\" The model starts with random parameters both 'self' parameters, then it looks at the data training samples in this case\n",
        "        and then it computers and updates those random numbers to represent the pattern in the data graphed.\n",
        "        Random values from weight and bias will be put through the foward function.\n",
        "        It takes the weight and bias and it runs through the 'forward' calculation which is the same formula that we used\n",
        "        to create our data, this to represent as close as possible, if not perfect the known parameters (0.7 and 0.3)\n",
        "        Utilizing gradient descent algorithm \"\"\"\n"
      ],
      "metadata": {
        "id": "UHfzdYo9NPYh"
      },
      "execution_count": 48,
      "outputs": []
    },
    {
      "cell_type": "code",
      "source": [
        " ## Model building essentials from PyTorch\n",
        " '''\n",
        " -torch.nn = contains buildings for computational graphs (neural netword could be considered a computational graph)\n",
        " -torh.nn.Parameter = What paremeters should be tried on and learned by our models (commonly a PyTorch layer form torch.nn will set these for us)\n",
        " -torch.nn.Module = Base class for entirety of neural network modules in PyTorch (if subclassedm should overwrite forward)\n",
        " -torch.optim = You can find optimizers here. they are an aid with gradient descent algorithms.\n",
        " -def forward() = Defines computation in the model, all nn.Module subclasses require you to overwrite this method\n",
        " -torch.utils.data.Dataset = Represents a map between key & sample (label &features) pairs of your data. (e.g. images & associataed labels)\n",
        " -torch.utils.data.DataLoader = Creates python iterable over a torch dataset(allowing yo iterate over your data)\n",
        "\n",
        " review PyTorch cheaet sheet for more info\n",
        " '''"
      ],
      "metadata": {
        "colab": {
          "base_uri": "https://localhost:8080/",
          "height": 202
        },
        "id": "CFQURGI1RNr_",
        "outputId": "fdfa04fe-52e1-4483-916b-18715f40155a"
      },
      "execution_count": 49,
      "outputs": [
        {
          "output_type": "execute_result",
          "data": {
            "text/plain": [
              "'\\n-torch.nn = contains buildings for computational graphs (neural netword could be considered a computational graph)\\n-torh.nn.Parameter = What paremeters should be tried on and learned by our models (commonly a PyTorch layer form torch.nn will set these for us)\\n-torch.nn.Module = Base class for entirety of neural network modules in PyTorch (if subclassedm should overwrite forward)\\n-torch.optim = You can find optimizers here. they are an aid with gradient descent algorithms.\\n-def forward() = Defines computation in the model, all nn.Module subclasses require you to overwrite this method\\n-torch.utils.data.Dataset = Represents a map between key & sample (label &features) pairs of your data. (e.g. images & associataed labels)\\n-torch.utils.data.DataLoader = Creates python iterable over a torch dataset(allowing yo iterate over your data)\\n\\nreview PyTorch cheaet sheet for more info\\n'"
            ],
            "application/vnd.google.colaboratory.intrinsic+json": {
              "type": "string"
            }
          },
          "metadata": {},
          "execution_count": 49
        }
      ]
    },
    {
      "cell_type": "code",
      "source": [
        "# CHECKING CONTENTS of our recently created model\n",
        "'''\n",
        "This is done by using .parameters() method\n",
        "'''"
      ],
      "metadata": {
        "colab": {
          "base_uri": "https://localhost:8080/",
          "height": 38
        },
        "id": "zskHtt9EzCq7",
        "outputId": "180ff802-8f87-4712-d40a-faed93b9cc1d"
      },
      "execution_count": 50,
      "outputs": [
        {
          "output_type": "execute_result",
          "data": {
            "text/plain": [
              "'\\nThis is done by using .parameters() method\\n'"
            ],
            "application/vnd.google.colaboratory.intrinsic+json": {
              "type": "string"
            }
          },
          "metadata": {},
          "execution_count": 50
        }
      ]
    },
    {
      "cell_type": "code",
      "source": [
        "# Creating a random seed because the parameters are cerated with random values\n",
        "# If there's no random seed, we'd get different values every time\n",
        "# We need a manual seed in this case\n",
        "torch.manual_seed(42)\n",
        "\n",
        "#Creating an instance of the linear regression model class (this is a subclass of nn.Module)\n",
        "first_model = LinearRegressionModel()\n",
        "\n",
        "# checking parameters of model\n",
        "print(f'Without a list {first_model.parameters()}')\n",
        "print(f'With a list \\n {list(first_model.parameters())}')"
      ],
      "metadata": {
        "colab": {
          "base_uri": "https://localhost:8080/"
        },
        "id": "Ec3AD43c0zCk",
        "outputId": "168a4fe4-1238-4857-bd09-183ad63a6bc9"
      },
      "execution_count": 51,
      "outputs": [
        {
          "output_type": "stream",
          "name": "stdout",
          "text": [
            "Without a list <generator object Module.parameters at 0x7d3fd1658cf0>\n",
            "With a list \n",
            " [Parameter containing:\n",
            "tensor([0.3367], requires_grad=True), Parameter containing:\n",
            "tensor([0.1288], requires_grad=True)]\n"
          ]
        }
      ]
    },
    {
      "cell_type": "code",
      "source": [
        "# Listing named parameters, we can see the random weight & bias here\n",
        "first_model.state_dict()"
      ],
      "metadata": {
        "colab": {
          "base_uri": "https://localhost:8080/"
        },
        "id": "YLrlQ77247-u",
        "outputId": "cfd14c7f-cfc6-45aa-af85-0cbbc1304496"
      },
      "execution_count": 52,
      "outputs": [
        {
          "output_type": "execute_result",
          "data": {
            "text/plain": [
              "OrderedDict([('weights', tensor([0.3367])), ('bias', tensor([0.1288]))])"
            ]
          },
          "metadata": {},
          "execution_count": 52
        }
      ]
    },
    {
      "cell_type": "code",
      "source": [
        "# We need to take previous random weight & bias to the set ones, only in this case\n",
        "# usually there are no set weight&bias values\n",
        "weight, bias"
      ],
      "metadata": {
        "colab": {
          "base_uri": "https://localhost:8080/"
        },
        "id": "78lLlr3d9Z6Y",
        "outputId": "0cfb3a97-2895-4498-9d86-4c0ab204227e"
      },
      "execution_count": 53,
      "outputs": [
        {
          "output_type": "execute_result",
          "data": {
            "text/plain": [
              "(0.7, 0.3)"
            ]
          },
          "metadata": {},
          "execution_count": 53
        }
      ]
    },
    {
      "cell_type": "code",
      "source": [
        "# Prediction making\n",
        "\n",
        "'''\n",
        "We will see how well it predicts 'y_test' based on 'X_test'\n",
        "Passing data through the model (using the forward method), will return a prediction\n",
        "'''\n",
        "\n",
        "with torch.inference_mode():\n",
        "  y_preds = first_model(X_test)\n",
        "#passing x test data through the instance model\n",
        " #it will take x_test values as input and will return y_test values as result\n",
        "y_preds"
      ],
      "metadata": {
        "colab": {
          "base_uri": "https://localhost:8080/"
        },
        "id": "CgW_GfR1-q1o",
        "outputId": "9436a337-45e6-4c11-8da3-cc5f83d068b7"
      },
      "execution_count": 54,
      "outputs": [
        {
          "output_type": "execute_result",
          "data": {
            "text/plain": [
              "tensor([[0.3982],\n",
              "        [0.4049],\n",
              "        [0.4116],\n",
              "        [0.4184],\n",
              "        [0.4251],\n",
              "        [0.4318],\n",
              "        [0.4386],\n",
              "        [0.4453],\n",
              "        [0.4520],\n",
              "        [0.4588]])"
            ]
          },
          "metadata": {},
          "execution_count": 54
        }
      ]
    },
    {
      "cell_type": "code",
      "source": [
        "#\n",
        "# Same operation with no inference mode\n",
        "#y_preds = first_model(X_test)\n",
        "#y_preds"
      ],
      "metadata": {
        "id": "F7rqGL4g1ngk"
      },
      "execution_count": 55,
      "outputs": []
    },
    {
      "cell_type": "code",
      "source": [
        "# comparing predictions with actual results\n",
        "y_test, y_preds"
      ],
      "metadata": {
        "colab": {
          "base_uri": "https://localhost:8080/"
        },
        "id": "GP2IYyPlHZLO",
        "outputId": "12813d07-1360-4f13-99db-5f3fd7dd7355"
      },
      "execution_count": 56,
      "outputs": [
        {
          "output_type": "execute_result",
          "data": {
            "text/plain": [
              "(tensor([[0.8600],\n",
              "         [0.8740],\n",
              "         [0.8880],\n",
              "         [0.9020],\n",
              "         [0.9160],\n",
              "         [0.9300],\n",
              "         [0.9440],\n",
              "         [0.9580],\n",
              "         [0.9720],\n",
              "         [0.9860]]),\n",
              " tensor([[0.3982],\n",
              "         [0.4049],\n",
              "         [0.4116],\n",
              "         [0.4184],\n",
              "         [0.4251],\n",
              "         [0.4318],\n",
              "         [0.4386],\n",
              "         [0.4453],\n",
              "         [0.4520],\n",
              "         [0.4588]]))"
            ]
          },
          "metadata": {},
          "execution_count": 56
        }
      ]
    },
    {
      "cell_type": "code",
      "source": [
        "# plotting the predictions\n",
        "plot_predictions(predictions=y_preds)"
      ],
      "metadata": {
        "colab": {
          "base_uri": "https://localhost:8080/",
          "height": 530
        },
        "id": "2vh9TyLQv2I4",
        "outputId": "c8b6ca3f-c43b-44a9-d187-7df33827b15a"
      },
      "execution_count": 57,
      "outputs": [
        {
          "output_type": "display_data",
          "data": {
            "text/plain": [
              "<Figure size 1000x700 with 1 Axes>"
            ],
            "image/png": "[encoded data removed]"
          },
          "metadata": {}
        }
      ]
    },
    {
      "cell_type": "markdown",
      "source": [
        "# 3. Training the model\n",
        "## The idea of training is for the model to go from some unknown parameters (that could be random) to actively known parameters.\n",
        "\n",
        "## Go from a poor representation of data (y_test & y_preds graphed) to a better one\n",
        "\n",
        "## Loss/Cost/Criterion functions can measure how poor or how wrong your model predictions are.\n",
        "\n",
        "## A loss fucntion is a function that measures how wrong your model's predictions are to the ideal outputs, the lower the better\n",
        "\n",
        "## An optimizer function takes the loss of a model and adjusts the model parameters e.g. weight & bias to IMPROVE the loss function.\n",
        "\n",
        "## For PyTorch. we need:\n",
        "* Training loop\n",
        "* Testing loop"
      ],
      "metadata": {
        "id": "gl8J-AKKI1Fv"
      }
    },
    {
      "cell_type": "code",
      "source": [
        "list(first_model.parameters())"
      ],
      "metadata": {
        "colab": {
          "base_uri": "https://localhost:8080/"
        },
        "id": "QkVPF9eYAvQ2",
        "outputId": "afb6fcb9-889d-43ec-cf52-0e69cec50918"
      },
      "execution_count": 58,
      "outputs": [
        {
          "output_type": "execute_result",
          "data": {
            "text/plain": [
              "[Parameter containing:\n",
              " tensor([0.3367], requires_grad=True),\n",
              " Parameter containing:\n",
              " tensor([0.1288], requires_grad=True)]"
            ]
          },
          "metadata": {},
          "execution_count": 58
        }
      ]
    },
    {
      "cell_type": "code",
      "source": [
        "#checking our models parameters(value that the model sets on its own)\n",
        "first_model.state_dict()"
      ],
      "metadata": {
        "colab": {
          "base_uri": "https://localhost:8080/"
        },
        "id": "i5RW3fRzCQ-F",
        "outputId": "483fc74d-d00d-4ffb-fd3d-5af114c58f13"
      },
      "execution_count": 59,
      "outputs": [
        {
          "output_type": "execute_result",
          "data": {
            "text/plain": [
              "OrderedDict([('weights', tensor([0.3367])), ('bias', tensor([0.1288]))])"
            ]
          },
          "metadata": {},
          "execution_count": 59
        }
      ]
    },
    {
      "cell_type": "code",
      "source": [
        "# setting up a loss function (evaluates how wrong our model is)\n",
        "fn_loss = nn.L1Loss()\n",
        "\n",
        "# setting up an optimizer (stochastic gradient descent, adjusts our model parameters)\n",
        "fn_optim = torch.optim.SGD(params=first_model.parameters(), lr=0.01) #model parameters & learning rate as params\n",
        "# learning rate is an important hyperparameter (value that DS/ML engineer sets)\n",
        "# taking baby steps in the hundreds .01 to have a smaller change in the parameter\n",
        "# larger learning rate results in larger changes"
      ],
      "metadata": {
        "id": "oHA5DkWVNcED"
      },
      "execution_count": 60,
      "outputs": []
    },
    {
      "cell_type": "code",
      "source": [
        "# Our major goal is to reduce the MAE of our workflow"
      ],
      "metadata": {
        "id": "CjQgicVCdZgr"
      },
      "execution_count": 61,
      "outputs": []
    },
    {
      "cell_type": "markdown",
      "source": [
        "##Building a training loop & testing loop\n",
        "#For this we need:\n",
        "* To loop through the data\n",
        "* We need Foward pass /  Forward propagation - makes predictions in data(involves data moving through our model's functions such as foward)\n",
        "* We must calculate loss (comparing forward pass predictions to GROUND truth labels)\n",
        "* We will optimize the zero grad\n",
        "* We will loss backward through BACKPROPAGATION - move backwards the network, calculations for each of the parameters of the model with respect to the loss\n",
        "* We will do Optimizer Step GRADIENT DESCENT, this will adjust model parameters to try and improve the loss\n",
        "\n",
        "#Our models utilize math to go from random parameters to better parameters"
      ],
      "metadata": {
        "id": "6e_Xed95sV3P"
      }
    },
    {
      "cell_type": "code",
      "source": [
        "# IN ORDER TO SUCCEED!!!!!!!!!!!!!!!!!!!!!!!!!!!!!!!!!!!\n",
        "\n",
        "# The goal is to move the random weight and bias ton the original weight and bias values\n",
        "# FOR EXAMPLE after the first epoch, printing the loss & the weights&bias we get:\n",
        "# Loss: 0.301360......\n",
        "# weights = 0.3406 bias = 0.1388\n",
        "\n",
        "# In order to be succeed we need to match these random weight&bias & diminish loss:\n",
        "# Loss should be close to 0\n",
        "# To the original ones:\n",
        "# weight = 0.7 bias = 0.3\n",
        "\n",
        "# NOTE IN REAL PROBLEMS WE DONT REALLY KNOW WHERE THE WEIGHT AND BIAS SHOULD BE\n",
        "# EXAMPLE PURPOSES"
      ],
      "metadata": {
        "id": "2J6D5KjBjVVS"
      },
      "execution_count": 62,
      "outputs": []
    },
    {
      "cell_type": "code",
      "source": [
        "'''\n",
        "torch.manual_seed(42)\n",
        "\n",
        "# an EPOCH is a complete pass of training data through an algorithm\n",
        "epochs = 100\n",
        "\n",
        "#-------TRAINING\n",
        "\n",
        "# Step 0: We loop through the data\n",
        "for epoch in range(epochs):\n",
        "  # MODEL DOT TRAIN\n",
        "  first_model.train() # set model into train mode, sets param that req gradients to req gradients\n",
        "\n",
        "# Step 1: Forward pass, passing data (X_train) to get y_pred\n",
        "  y_pred = first_model(X_train)\n",
        "\n",
        "# Step 2: Loss calculation\n",
        "  loss_calc = fn_loss(y_pred, y_train) # input first, target second\n",
        "  # we calculate differences between training and ideal predictions\n",
        "  print(f\"Loss: {loss_calc}\")\n",
        "# Step 3: Optimizer zero grad\n",
        "  fn_optim.zero_grad() #the optimizer changes will accumulate by default, through the loop\n",
        "  # this is why we zero grad\n",
        "\n",
        "# Step 4: Perform backpropagation on the loss with respect to model param\n",
        "  loss_calc.backward()\n",
        "\n",
        "# Step 5: Optimizer step (gradient descent), this normally occurs after backpropagation\n",
        "  fn_optim.step()\n",
        "  #updates our model parameters to try to get them as close as the og ones\n",
        "  # if this occurs, the LOSS should be close to 0\n",
        "\n",
        "#-------TESTING\n",
        "\n",
        "# MODEL DOT EVAL\n",
        "  first_model.eval() # turns off gradient tracking\n",
        "\n",
        "# PRINT OUT WHATS HAAAPPENING with w&b\n",
        "print(first_model.state_dict())\n",
        "\n",
        "#compare to original w&b vals (this isnt the case in a real problem)\n",
        "weight, bias\n",
        "\n",
        "  # IN ORDER TO SEE SOME ACTION, after training model:\n",
        "  # print the loss value, in this case loss_calc\n",
        "  # watch how it should be going down after eache poch, at least in this case\n",
        "\n",
        "  #BLOCK COMMENTED OUT TO NOT ITERFERE WITH FUTURE TESTING CODE BUILT WITH THIS\n",
        "  '''"
      ],
      "metadata": {
        "colab": {
          "base_uri": "https://localhost:8080/",
          "height": 222
        },
        "id": "4FuIWzznBQ1r",
        "outputId": "78556281-cce3-4218-f660-b82ddaea5f6a"
      },
      "execution_count": 63,
      "outputs": [
        {
          "output_type": "execute_result",
          "data": {
            "text/plain": [
              "'\\ntorch.manual_seed(42)\\n\\n# an EPOCH is a complete pass of training data through an algorithm\\nepochs = 100\\n\\n#-------TRAINING\\n\\n# Step 0: We loop through the data\\nfor epoch in range(epochs):\\n  # MODEL DOT TRAIN\\n  first_model.train() # set model into train mode, sets param that req gradients to req gradients\\n\\n# Step 1: Forward pass, passing data (X_train) to get y_pred\\n  y_pred = first_model(X_train)\\n\\n# Step 2: Loss calculation\\n  loss_calc = fn_loss(y_pred, y_train) # input first, target second\\n  # we calculate differences between training and ideal predictions\\n  print(f\"Loss: {loss_calc}\")\\n# Step 3: Optimizer zero grad\\n  fn_optim.zero_grad() #the optimizer changes will accumulate by default, through the loop\\n  # this is why we zero grad\\n\\n# Step 4: Perform backpropagation on the loss with respect to model param\\n  loss_calc.backward()\\n\\n# Step 5: Optimizer step (gradient descent), this normally occurs after backpropagation\\n  fn_optim.step()\\n  #updates our model parameters to try to get them as close as the og ones\\n  # if this occurs, the LOSS should be close to 0\\n\\n#-------TESTING\\n\\n# MODEL DOT EVAL\\n  first_model.eval() # turns off gradient tracking\\n\\n# PRINT OUT WHATS HAAAPPENING with w&b\\nprint(first_model.state_dict())\\n\\n#compare to original w&b vals (this isnt the case in a real problem)\\nweight, bias\\n\\n  # IN ORDER TO SEE SOME ACTION, after training model:\\n  # print the loss value, in this case loss_calc\\n  # watch how it should be going down after eache poch, at least in this case\\n\\n  #BLOCK COMMENTED OUT TO NOT ITERFERE WITH FUTURE TESTING CODE BUILT WITH THIS\\n  '"
            ],
            "application/vnd.google.colaboratory.intrinsic+json": {
              "type": "string"
            }
          },
          "metadata": {},
          "execution_count": 63
        }
      ]
    },
    {
      "cell_type": "markdown",
      "source": [],
      "metadata": {
        "id": "jdAoQ-JljeZS"
      }
    },
    {
      "cell_type": "code",
      "source": [
        "# doing predictions and comparing the predictions to the actual values\n",
        "with torch.inference_mode():\n",
        "  y_preds_new = first_model(X_test)"
      ],
      "metadata": {
        "id": "93fsX7izqOKP"
      },
      "execution_count": 64,
      "outputs": []
    },
    {
      "cell_type": "code",
      "source": [
        "# initial predictions on plot compared to actual values\n",
        "plot_predictions(predictions=y_preds)"
      ],
      "metadata": {
        "colab": {
          "base_uri": "https://localhost:8080/",
          "height": 530
        },
        "id": "pYHeKlkHnQdI",
        "outputId": "07deedf5-258d-4afc-ee80-add27da53e69"
      },
      "execution_count": 65,
      "outputs": [
        {
          "output_type": "display_data",
          "data": {
            "text/plain": [
              "<Figure size 1000x700 with 1 Axes>"
            ],
            "image/png": "[encoded data removed]"
          },
          "metadata": {}
        }
      ]
    },
    {
      "cell_type": "code",
      "source": [
        "# new predictions after running some epochs\n",
        "plot_predictions(predictions=y_preds_new)"
      ],
      "metadata": {
        "colab": {
          "base_uri": "https://localhost:8080/",
          "height": 530
        },
        "id": "OeXlTJZEnVlg",
        "outputId": "23daac06-a517-4506-ad17-c66ce22fd80f"
      },
      "execution_count": 66,
      "outputs": [
        {
          "output_type": "display_data",
          "data": {
            "text/plain": [
              "<Figure size 1000x700 with 1 Axes>"
            ],
            "image/png": "[encoded data removed]"
          },
          "metadata": {}
        }
      ]
    },
    {
      "cell_type": "markdown",
      "source": [
        "# Writing the testing loop\n",
        "### NOTE: Training and Testing loops are not needed to be written together, you can functionize them (make a function out of them)\n",
        "\n",
        "### NOTE: This is a continuation of the previous code\n"
      ],
      "metadata": {
        "id": "qps2jzCzrsqy"
      }
    },
    {
      "cell_type": "code",
      "source": [
        "torch.manual_seed(42)\n",
        "\n",
        "# an EPOCH is a complete pass of training data through an algorithm\n",
        "epochs = 200\n",
        "\n",
        "#------TRACKING DIFFERENT VALUES\n",
        "count_epoch = []\n",
        "values_loss = []\n",
        "values_test_loss = []\n",
        "\n",
        "#-------TRAINING\n",
        "\n",
        "# Step 0: We loop through the data\n",
        "for epoch in range(epochs):\n",
        "  # MODEL DOT TRAIN\n",
        "  first_model.train() # set model into train mode, sets param that req gradients to req gradients\n",
        "\n",
        "# Step 1: Forward pass, passing data (X_train) to get y_pred\n",
        "  y_pred = first_model(X_train)\n",
        "\n",
        "# Step 2: Loss calculation\n",
        "  loss_calc = fn_loss(y_pred, y_train) # input first, target second\n",
        "  # we calculate differences between training and ideal predictions\n",
        "  #print(f\"Loss: {loss_calc}\")\n",
        "# Step 3: Optimizer zero grad\n",
        "  fn_optim.zero_grad() #the optimizer changes will accumulate by default, through the loop\n",
        "  # this is why we zero grad\n",
        "\n",
        "# Step 4: Perform backpropagation on the loss with respect to model param\n",
        "  loss_calc.backward()\n",
        "\n",
        "# Step 5: Optimizer step (gradient descent), this normally occurs after backpropagation\n",
        "  fn_optim.step()\n",
        "  #updates our model parameters to try to get them as close as the og ones\n",
        "  # if this occurs, the LOSS should be close to 0\n",
        "\n",
        "#-------TESTING\n",
        "\n",
        "# MODEL DOT EVAL\n",
        "  first_model.eval() # turns off gradient tracking\n",
        "\n",
        "# WITH TORCH INFERENCE MODE\n",
        "  with torch.inference_mode(): #turns off gradient tracking &/or  more for testing\n",
        "# DO THE FORWARD PASS\n",
        "    test_pred = first_model(X_test)\n",
        "# ? CALCULATE THE LOSS\n",
        "    test_loss = fn_loss(test_pred, y_test)\n",
        "\n",
        "    # PRINT OUT WHATS HAPPENING every 10 epochs\n",
        "  if epoch % 10 == 0:\n",
        "    #appending values every epoch for traking values\n",
        "    count_epoch.append(epoch)\n",
        "    values_loss.append(loss_calc)\n",
        "    values_test_loss.append(test_loss)\n",
        "\n",
        "    #print\n",
        "    print(f\"Epoch: {epoch} | Loss: {loss_calc}) | Test loss:{test_loss}\")\n",
        "# PRINT OUT WHATS HAAAPPENING with w&b\n",
        "    print(first_model.state_dict())\n",
        "\n",
        "#compare to original w&b vals (this isnt the case in a real problem)\n",
        "weight, bias\n",
        "\n",
        "  # NOTE THIS IS A CONTINUATION OF THE PREVIOUS CODE: IN ORDER TO RUN WITH NO ISSUES\n",
        "  # COMMENT OUT THE PREVIOUS EPOCH ITERATION OF THE FIRST MODEL AND RERUN ALL CELLS\n",
        "\n",
        "\n",
        "  # IN ORDER TO SEE SOME ACTION, after training model:\n",
        "  # print the loss value, in this case loss_calc\n",
        "  # watch how it should be going down after eache poch, at least in this case"
      ],
      "metadata": {
        "colab": {
          "base_uri": "https://localhost:8080/"
        },
        "id": "0LEPqlI3rz-G",
        "outputId": "d0534581-30ad-4f4a-aab4-ac865baeec45"
      },
      "execution_count": 67,
      "outputs": [
        {
          "output_type": "stream",
          "name": "stdout",
          "text": [
            "Epoch: 0 | Loss: 0.31288138031959534) | Test loss:0.48106518387794495\n",
            "OrderedDict([('weights', tensor([0.3406])), ('bias', tensor([0.1388]))])\n",
            "Epoch: 10 | Loss: 0.1976713240146637) | Test loss:0.3463551998138428\n",
            "OrderedDict([('weights', tensor([0.3796])), ('bias', tensor([0.2388]))])\n",
            "Epoch: 20 | Loss: 0.08908725529909134) | Test loss:0.21729660034179688\n",
            "OrderedDict([('weights', tensor([0.4184])), ('bias', tensor([0.3333]))])\n",
            "Epoch: 30 | Loss: 0.053148526698350906) | Test loss:0.14464017748832703\n",
            "OrderedDict([('weights', tensor([0.4512])), ('bias', tensor([0.3768]))])\n",
            "Epoch: 40 | Loss: 0.04543796554207802) | Test loss:0.11360953003168106\n",
            "OrderedDict([('weights', tensor([0.4748])), ('bias', tensor([0.3868]))])\n",
            "Epoch: 50 | Loss: 0.04167863354086876) | Test loss:0.09919948130846024\n",
            "OrderedDict([('weights', tensor([0.4938])), ('bias', tensor([0.3843]))])\n",
            "Epoch: 60 | Loss: 0.03818932920694351) | Test loss:0.08886633068323135\n",
            "OrderedDict([('weights', tensor([0.5116])), ('bias', tensor([0.3788]))])\n",
            "Epoch: 70 | Loss: 0.03476089984178543) | Test loss:0.0805937647819519\n",
            "OrderedDict([('weights', tensor([0.5288])), ('bias', tensor([0.3718]))])\n",
            "Epoch: 80 | Loss: 0.03132382780313492) | Test loss:0.07232122868299484\n",
            "OrderedDict([('weights', tensor([0.5459])), ('bias', tensor([0.3648]))])\n",
            "Epoch: 90 | Loss: 0.02788739837706089) | Test loss:0.06473556160926819\n",
            "OrderedDict([('weights', tensor([0.5629])), ('bias', tensor([0.3573]))])\n",
            "Epoch: 100 | Loss: 0.024458957836031914) | Test loss:0.05646304413676262\n",
            "OrderedDict([('weights', tensor([0.5800])), ('bias', tensor([0.3503]))])\n",
            "Epoch: 110 | Loss: 0.021020207554101944) | Test loss:0.04819049686193466\n",
            "OrderedDict([('weights', tensor([0.5972])), ('bias', tensor([0.3433]))])\n",
            "Epoch: 120 | Loss: 0.01758546568453312) | Test loss:0.04060482233762741\n",
            "OrderedDict([('weights', tensor([0.6141])), ('bias', tensor([0.3358]))])\n",
            "Epoch: 130 | Loss: 0.014155393466353416) | Test loss:0.03233227878808975\n",
            "OrderedDict([('weights', tensor([0.6313])), ('bias', tensor([0.3288]))])\n",
            "Epoch: 140 | Loss: 0.010716589167714119) | Test loss:0.024059748277068138\n",
            "OrderedDict([('weights', tensor([0.6485])), ('bias', tensor([0.3218]))])\n",
            "Epoch: 150 | Loss: 0.0072835334576666355) | Test loss:0.016474086791276932\n",
            "OrderedDict([('weights', tensor([0.6654])), ('bias', tensor([0.3143]))])\n",
            "Epoch: 160 | Loss: 0.0038517764769494534) | Test loss:0.008201557211577892\n",
            "OrderedDict([('weights', tensor([0.6826])), ('bias', tensor([0.3073]))])\n",
            "Epoch: 170 | Loss: 0.008932482451200485) | Test loss:0.005023092031478882\n",
            "OrderedDict([('weights', tensor([0.6951])), ('bias', tensor([0.2993]))])\n",
            "Epoch: 180 | Loss: 0.008932482451200485) | Test loss:0.005023092031478882\n",
            "OrderedDict([('weights', tensor([0.6951])), ('bias', tensor([0.2993]))])\n",
            "Epoch: 190 | Loss: 0.008932482451200485) | Test loss:0.005023092031478882\n",
            "OrderedDict([('weights', tensor([0.6951])), ('bias', tensor([0.2993]))])\n"
          ]
        },
        {
          "output_type": "execute_result",
          "data": {
            "text/plain": [
              "(0.7, 0.3)"
            ]
          },
          "metadata": {},
          "execution_count": 67
        }
      ]
    },
    {
      "cell_type": "code",
      "source": [
        "# RESULTS AFTER 100 EPOCHS!\n",
        "# Test Loss : 0.06473556160926819\n",
        "# OrderedDict([('weights', tensor([0.5629])), ('bias', tensor([0.3573]))]"
      ],
      "metadata": {
        "id": "uWw0gVH58pLi"
      },
      "execution_count": 68,
      "outputs": []
    },
    {
      "cell_type": "code",
      "source": [
        "# doing predictions and comparing the predictions to the actual values\n",
        "with torch.inference_mode():\n",
        "  y_preds_new = first_model(X_test)"
      ],
      "metadata": {
        "id": "-0NDTsIBDgMu"
      },
      "execution_count": 69,
      "outputs": []
    },
    {
      "cell_type": "code",
      "source": [
        "plot_predictions(predictions=y_preds)"
      ],
      "metadata": {
        "colab": {
          "base_uri": "https://localhost:8080/",
          "height": 530
        },
        "id": "Om9TB559Dhxz",
        "outputId": "f5c8d7d1-2356-48b2-9d0d-e5ff33e76dc8"
      },
      "execution_count": 70,
      "outputs": [
        {
          "output_type": "display_data",
          "data": {
            "text/plain": [
              "<Figure size 1000x700 with 1 Axes>"
            ],
            "image/png": "[encoded data removed]"
          },
          "metadata": {}
        }
      ]
    },
    {
      "cell_type": "code",
      "source": [
        "plot_predictions(predictions=y_preds_new)"
      ],
      "metadata": {
        "colab": {
          "base_uri": "https://localhost:8080/",
          "height": 530
        },
        "id": "spyIlMCNDndB",
        "outputId": "b4693a79-2c35-462d-b793-e8c3ad1653ae"
      },
      "execution_count": 71,
      "outputs": [
        {
          "output_type": "display_data",
          "data": {
            "text/plain": [
              "<Figure size 1000x700 with 1 Axes>"
            ],
            "image/png": "[encoded data removed]"
          },
          "metadata": {}
        }
      ]
    },
    {
      "cell_type": "code",
      "source": [
        "import numpy as np\n",
        "\n",
        "'''\n",
        "RuntimeError: Can't call numpy() on Tensor that requires grad. Use tensor.detach().numpy() instead.\n",
        "'''\n",
        "\n",
        "# our loss values are still on pytorch, and they cant be because\n",
        "# matplot works with numpy, so we convert to numpy\n",
        "# as seen in pytorch fundamentals\n",
        "\n",
        "torch.tensor(values_loss).numpy()"
      ],
      "metadata": {
        "colab": {
          "base_uri": "https://localhost:8080/"
        },
        "id": "YY8t-mF3Ln2g",
        "outputId": "6140e9e7-5727-42c9-e66c-62fc03660472"
      },
      "execution_count": 72,
      "outputs": [
        {
          "output_type": "execute_result",
          "data": {
            "text/plain": [
              "array([0.31288138, 0.19767132, 0.08908726, 0.05314853, 0.04543797,\n",
              "       0.04167863, 0.03818933, 0.0347609 , 0.03132383, 0.0278874 ,\n",
              "       0.02445896, 0.02102021, 0.01758547, 0.01415539, 0.01071659,\n",
              "       0.00728353, 0.00385178, 0.00893248, 0.00893248, 0.00893248],\n",
              "      dtype=float32)"
            ]
          },
          "metadata": {},
          "execution_count": 72
        }
      ]
    },
    {
      "cell_type": "code",
      "source": [
        "# PLOTTING THE LOSS CURVES AFTER CONVERTING\n",
        "plt.plot(count_epoch, torch.tensor(values_loss).numpy() , label=\"Train loss\")\n",
        "plt.plot(count_epoch, values_test_loss, label=\"Test loss\")\n",
        "plt.ylabel(\"Loss\")\n",
        "plt.xlabel(\"Epochs\")\n",
        "plt.legend()"
      ],
      "metadata": {
        "colab": {
          "base_uri": "https://localhost:8080/",
          "height": 469
        },
        "id": "pZeh9cHNDvBs",
        "outputId": "6c06520f-8dad-42bc-f68e-17459412b8ac"
      },
      "execution_count": 73,
      "outputs": [
        {
          "output_type": "execute_result",
          "data": {
            "text/plain": [
              "<matplotlib.legend.Legend at 0x7d3fd16743a0>"
            ]
          },
          "metadata": {},
          "execution_count": 73
        },
        {
          "output_type": "display_data",
          "data": {
            "text/plain": [
              "<Figure size 640x480 with 1 Axes>"
            ],
            "image/png": "[encoded data removed]"
          },
          "metadata": {}
        }
      ]
    },
    {
      "cell_type": "markdown",
      "source": [
        "# Saving a model (Pytorch)\n",
        "\n",
        "Three main methods to save & load models in Pytorch\n",
        "\n",
        "- torch.save() -  saves Pytorch object in Python's pickle format\n",
        "- torch.load() - loads Pytorch object\n",
        "- torch.nn.Module.load_state_dict() - load a model's saved state dictionary\n"
      ],
      "metadata": {
        "id": "3Pf5bh1kN9EA"
      }
    },
    {
      "cell_type": "code",
      "source": [
        "# Example of load_state_dict()\n",
        "first_model.state_dict()"
      ],
      "metadata": {
        "colab": {
          "base_uri": "https://localhost:8080/"
        },
        "id": "4lGRTBeKO5BP",
        "outputId": "f1345773-9e84-47fd-a56c-f2299351a1fa"
      },
      "execution_count": 74,
      "outputs": [
        {
          "output_type": "execute_result",
          "data": {
            "text/plain": [
              "OrderedDict([('weights', tensor([0.6990])), ('bias', tensor([0.3093]))])"
            ]
          },
          "metadata": {},
          "execution_count": 74
        }
      ]
    },
    {
      "cell_type": "code",
      "source": [
        "# Saving our Pytorch model\n",
        "from pathlib import Path\n",
        "\n",
        "#1. Create models directory\n",
        "model_path = Path(\"models\")\n",
        "model_path.mkdir(parents=True, exist_ok=True)\n",
        "\n",
        "#2. Create model save path\n",
        "model_name = 'first_pytorch_model_0.pth' #pth / pt file extension for a pytorch file\n",
        "model_save_path = model_path / model_name\n",
        "\n",
        "model_save_path # models folder gets created\n",
        "\n",
        "#3. Save the model state dict.\n",
        "print(\"Saving model to:\", {model_save_path})\n",
        "torch.save(obj=first_model.state_dict(), f=model_save_path)"
      ],
      "metadata": {
        "colab": {
          "base_uri": "https://localhost:8080/"
        },
        "id": "EoLkQQKYPAL7",
        "outputId": "011c8af5-1ed3-49de-dff4-ff3314bfbd8c"
      },
      "execution_count": 75,
      "outputs": [
        {
          "output_type": "stream",
          "name": "stdout",
          "text": [
            "Saving model to: {PosixPath('models/first_pytorch_model_0.pth')}\n"
          ]
        }
      ]
    },
    {
      "cell_type": "code",
      "source": [
        "# listing the models\n",
        "!ls -1 models"
      ],
      "metadata": {
        "colab": {
          "base_uri": "https://localhost:8080/"
        },
        "id": "MjArnsrAVUMl",
        "outputId": "b2173210-6ac0-4176-c133-e34714c7aaf7"
      },
      "execution_count": 76,
      "outputs": [
        {
          "output_type": "stream",
          "name": "stdout",
          "text": [
            "first_pytorch_model_0.pth\n"
          ]
        }
      ]
    },
    {
      "cell_type": "code",
      "source": [
        "# Daniel said to do this on extracurriculum, maybe a different notebook?\n",
        "\n",
        "# torch.load(f=model_save_path)"
      ],
      "metadata": {
        "id": "L8FUZYZMVtI8"
      },
      "execution_count": 77,
      "outputs": []
    },
    {
      "cell_type": "code",
      "source": [
        "# Load in a saved state_dict\n",
        "# we instantiate a new instance of our model class\n",
        "first_loaded_model = LinearRegressionModel()\n",
        "\n",
        "# Load saved state_dict of first_model\n",
        "#this updates new instance with updated parameters\n",
        "first_loaded_model.load_state_dict(torch.load(f=model_save_path))"
      ],
      "metadata": {
        "colab": {
          "base_uri": "https://localhost:8080/"
        },
        "id": "FEcCKli7W3J3",
        "outputId": "eeacda6b-8c95-4b13-9b4e-0b4da4af393a"
      },
      "execution_count": 78,
      "outputs": [
        {
          "output_type": "stream",
          "name": "stderr",
          "text": [
            "<ipython-input-78-e0b0e03f22e1>:7: FutureWarning: You are using `torch.load` with `weights_only=False` (the current default value), which uses the default pickle module implicitly. It is possible to construct malicious pickle data which will execute arbitrary code during unpickling (See https://github.com/pytorch/pytorch/blob/main/SECURITY.md#untrusted-models for more details). In a future release, the default value for `weights_only` will be flipped to `True`. This limits the functions that could be executed during unpickling. Arbitrary objects will no longer be allowed to be loaded via this mode unless they are explicitly allowlisted by the user via `torch.serialization.add_safe_globals`. We recommend you start setting `weights_only=True` for any use case where you don't have full control of the loaded file. Please open an issue on GitHub for any issues related to this experimental feature.\n",
            "  first_loaded_model.load_state_dict(torch.load(f=model_save_path))\n"
          ]
        },
        {
          "output_type": "execute_result",
          "data": {
            "text/plain": [
              "<All keys matched successfully>"
            ]
          },
          "metadata": {},
          "execution_count": 78
        }
      ]
    },
    {
      "cell_type": "code",
      "source": [
        "# Results before using load_state_dict\n",
        "# first_loaded_model.state_dict(torch.load(f=model_save_path))\n",
        "# OrderedDict([('weights', tensor([0.6990])), ('bias', tensor([0.3093]))])"
      ],
      "metadata": {
        "id": "Sc8BYFZgXjgR",
        "colab": {
          "base_uri": "https://localhost:8080/"
        },
        "outputId": "67f333f9-2ba5-4f0f-d7fa-8682c39a50d8"
      },
      "execution_count": 79,
      "outputs": [
        {
          "output_type": "stream",
          "name": "stderr",
          "text": [
            "<ipython-input-79-4c02d06ec732>:2: FutureWarning: You are using `torch.load` with `weights_only=False` (the current default value), which uses the default pickle module implicitly. It is possible to construct malicious pickle data which will execute arbitrary code during unpickling (See https://github.com/pytorch/pytorch/blob/main/SECURITY.md#untrusted-models for more details). In a future release, the default value for `weights_only` will be flipped to `True`. This limits the functions that could be executed during unpickling. Arbitrary objects will no longer be allowed to be loaded via this mode unless they are explicitly allowlisted by the user via `torch.serialization.add_safe_globals`. We recommend you start setting `weights_only=True` for any use case where you don't have full control of the loaded file. Please open an issue on GitHub for any issues related to this experimental feature.\n",
            "  first_loaded_model.state_dict(torch.load(f=model_save_path))\n",
            "<ipython-input-79-4c02d06ec732>:2: FutureWarning: Positional args are being deprecated, use kwargs instead. Refer to https://pytorch.org/docs/main/generated/torch.nn.Module.html#torch.nn.Module.state_dict for details.\n",
            "  first_loaded_model.state_dict(torch.load(f=model_save_path))\n"
          ]
        },
        {
          "output_type": "execute_result",
          "data": {
            "text/plain": [
              "OrderedDict([('weights', tensor([0.6990])), ('bias', tensor([0.3093]))])"
            ]
          },
          "metadata": {},
          "execution_count": 79
        }
      ]
    },
    {
      "cell_type": "code",
      "source": [
        "# after using load state dict, we should have the same exact values as above (you did)\n",
        "# first_loaded_model.state_dict()\n",
        "# results after load state dict:\n",
        "# OrderedDict([('weights', tensor([0.6990])), ('bias', tensor([0.3093]))])"
      ],
      "metadata": {
        "colab": {
          "base_uri": "https://localhost:8080/"
        },
        "id": "DOEr81Z-Ylkj",
        "outputId": "4ba8ffc5-6d89-4a14-ee93-a023e6454073"
      },
      "execution_count": 80,
      "outputs": [
        {
          "output_type": "execute_result",
          "data": {
            "text/plain": [
              "OrderedDict([('weights', tensor([0.6990])), ('bias', tensor([0.3093]))])"
            ]
          },
          "metadata": {},
          "execution_count": 80
        }
      ]
    },
    {
      "cell_type": "code",
      "source": [
        "# Making predictions with loaded model\n",
        "first_loaded_model.eval()\n",
        "with torch.inference_mode():\n",
        "  preds_loaded_model = first_loaded_model(X_test)\n",
        "\n",
        "#PREDICTIONS FORM LOADED MODEL:\n",
        "print(\"Predictions from loaded model:\\n\")\n",
        "preds_loaded_model"
      ],
      "metadata": {
        "colab": {
          "base_uri": "https://localhost:8080/"
        },
        "id": "FteI84c8ax71",
        "outputId": "41d58794-3275-48d5-b2b7-5d770d6b6851"
      },
      "execution_count": 81,
      "outputs": [
        {
          "output_type": "stream",
          "name": "stdout",
          "text": [
            "Predictions from loaded model:\n",
            "\n"
          ]
        },
        {
          "output_type": "execute_result",
          "data": {
            "text/plain": [
              "tensor([[0.8685],\n",
              "        [0.8825],\n",
              "        [0.8965],\n",
              "        [0.9105],\n",
              "        [0.9245],\n",
              "        [0.9384],\n",
              "        [0.9524],\n",
              "        [0.9664],\n",
              "        [0.9804],\n",
              "        [0.9944]])"
            ]
          },
          "metadata": {},
          "execution_count": 81
        }
      ]
    },
    {
      "cell_type": "code",
      "source": [
        "# Comparing precitions between original and loaded model\n",
        "y_preds == preds_loaded_model\n",
        "#BUT WHY IS IT FALSE?"
      ],
      "metadata": {
        "colab": {
          "base_uri": "https://localhost:8080/"
        },
        "id": "PN-GHGDXbVb7",
        "outputId": "269b6a92-ec7b-4c33-fd95-13921bc3e5cd"
      },
      "execution_count": 82,
      "outputs": [
        {
          "output_type": "execute_result",
          "data": {
            "text/plain": [
              "tensor([[False],\n",
              "        [False],\n",
              "        [False],\n",
              "        [False],\n",
              "        [False],\n",
              "        [False],\n",
              "        [False],\n",
              "        [False],\n",
              "        [False],\n",
              "        [False]])"
            ]
          },
          "metadata": {},
          "execution_count": 82
        }
      ]
    },
    {
      "cell_type": "code",
      "source": [
        "# Predictions on original model TO COMPARE TO PREVIOUS LOADED MODEL\n",
        "first_model.eval()\n",
        "with torch.inference_mode():\n",
        "  y_preds = first_model(X_test)\n",
        "\n",
        "print(\"Original predictions after predicting loaded model:\")\n",
        "y_preds"
      ],
      "metadata": {
        "colab": {
          "base_uri": "https://localhost:8080/"
        },
        "id": "QFkRs2vnbq9E",
        "outputId": "a7dc0d19-d57f-4042-eb49-ccfea3cf2e66"
      },
      "execution_count": 83,
      "outputs": [
        {
          "output_type": "stream",
          "name": "stdout",
          "text": [
            "Original predictions after predicting loaded model:\n"
          ]
        },
        {
          "output_type": "execute_result",
          "data": {
            "text/plain": [
              "tensor([[0.8685],\n",
              "        [0.8825],\n",
              "        [0.8965],\n",
              "        [0.9105],\n",
              "        [0.9245],\n",
              "        [0.9384],\n",
              "        [0.9524],\n",
              "        [0.9664],\n",
              "        [0.9804],\n",
              "        [0.9944]])"
            ]
          },
          "metadata": {},
          "execution_count": 83
        }
      ]
    },
    {
      "cell_type": "markdown",
      "source": [],
      "metadata": {
        "id": "JnKf8n9ucUMy"
      }
    },
    {
      "cell_type": "markdown",
      "source": [
        "TIME STAMP 7:37:00 HOURS IN"
      ],
      "metadata": {
        "id": "zaMABMQ_Si-n"
      }
    },
    {
      "cell_type": "code",
      "source": [],
      "metadata": {
        "id": "FKhBqZoicTY6"
      },
      "execution_count": null,
      "outputs": []
    }
  ]
}