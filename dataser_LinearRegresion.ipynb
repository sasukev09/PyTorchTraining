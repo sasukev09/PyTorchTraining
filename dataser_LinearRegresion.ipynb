{
  "nbformat": 4,
  "nbformat_minor": 0,
  "metadata": {
    "colab": {
      "provenance": [],
      "authorship_tag": "ABX9TyODTUyghWLygXtUbwt4wGkX",
      "include_colab_link": true
    },
    "kernelspec": {
      "name": "python3",
      "display_name": "Python 3"
    },
    "language_info": {
      "name": "python"
    }
  },
  "cells": [
    {
      "cell_type": "markdown",
      "metadata": {
        "id": "view-in-github",
        "colab_type": "text"
      },
      "source": [
        "<a href=\"https://colab.research.google.com/github/sasukev09/PyTorchTraining/blob/main/dataser_LinearRegresion.ipynb\" target=\"_parent\"><img src=\"https://colab.research.google.com/assets/colab-badge.svg\" alt=\"Open In Colab\"/></a>"
      ]
    },
    {
      "cell_type": "code",
      "source": [
        "import torch\n",
        "from torch import nn # nn = neural networks\n",
        "import matplotlib.pyplot as plt\n",
        "\n",
        "torch.__version__"
      ],
      "metadata": {
        "colab": {
          "base_uri": "https://localhost:8080/",
          "height": 38
        },
        "id": "9E6LgpB_8kAf",
        "outputId": "8640c099-c742-44a8-d227-5f18e026820b"
      },
      "execution_count": 1,
      "outputs": [
        {
          "output_type": "execute_result",
          "data": {
            "text/plain": [
              "'2.3.1+cu121'"
            ],
            "application/vnd.google.colaboratory.intrinsic+json": {
              "type": "string"
            }
          },
          "metadata": {},
          "execution_count": 1
        }
      ]
    },
    {
      "cell_type": "code",
      "execution_count": 2,
      "metadata": {
        "colab": {
          "base_uri": "https://localhost:8080/"
        },
        "id": "TV3boN-wd1Rm",
        "outputId": "c930f162-a98a-4204-c1b8-083e50146bb3"
      },
      "outputs": [
        {
          "output_type": "stream",
          "name": "stdout",
          "text": [
            "Input numbers:\n",
            " tensor([[0.0000],\n",
            "        [0.0200],\n",
            "        [0.0400],\n",
            "        [0.0600],\n",
            "        [0.0800],\n",
            "        [0.1000],\n",
            "        [0.1200],\n",
            "        [0.1400],\n",
            "        [0.1600],\n",
            "        [0.1800]])\n",
            " Output numbers:\n",
            " tensor([[0.3000],\n",
            "        [0.3140],\n",
            "        [0.3280],\n",
            "        [0.3420],\n",
            "        [0.3560],\n",
            "        [0.3700],\n",
            "        [0.3840],\n",
            "        [0.3980],\n",
            "        [0.4120],\n",
            "        [0.4260]]) \n",
            "(50, 50)\n"
          ]
        }
      ],
      "source": [
        "# Parameters \"known\" are created\n",
        "# build a model that estimates thse numbers\n",
        "import torch\n",
        "\n",
        "weight = 0.7\n",
        "bias = 0.3\n",
        "\n",
        "\n",
        "#create numbers\n",
        "start = 0\n",
        "end = 1\n",
        "\n",
        "#gap of a step\n",
        "step = 0.02\n",
        "\n",
        "# X is INPUT a matrix or a tensor, capitol . Lowercase is a vector\n",
        "X = torch.arange(start, end, step).unsqueeze(dim=1) #unsqueeze adds extra dim\n",
        "\n",
        "# IDEAL OUTPUT y, this case a linear regression formula\n",
        "y = weight * X + bias\n",
        "\n",
        "print(f\"Input numbers:\\n {X[:10]}\\n Output numbers:\\n {y[:10]} \\n{len(X), len(y)}\")"
      ]
    },
    {
      "cell_type": "code",
      "source": [
        "# We split the data into training and test sets\n",
        "# One of the most important concepts in machine learning in general\n",
        "train_split = int(0.8 * len(X))\n",
        "\n",
        "# creating train and test sets, notice index notation\n",
        "# getting everything before & after train_split (40)\n",
        "X_train, y_train = X[:train_split], y[:train_split] # 0-40 = 40\n",
        "X_test, y_test = X[train_split:], y[train_split:] # 40-50 = 10\n",
        "\n",
        "len(X_train), len(y_train), len(X_test), len(y_test)\n",
        "\n"
      ],
      "metadata": {
        "colab": {
          "base_uri": "https://localhost:8080/"
        },
        "id": "Q_UNubkUyuqP",
        "outputId": "be5d6634-42c8-435a-9ceb-51c4d6c4613f"
      },
      "execution_count": 3,
      "outputs": [
        {
          "output_type": "execute_result",
          "data": {
            "text/plain": [
              "(40, 40, 10, 10)"
            ]
          },
          "metadata": {},
          "execution_count": 3
        }
      ]
    },
    {
      "cell_type": "code",
      "source": [
        "# Numerical representation of our test and train data for features and labels\n",
        "X_train, X_test, y_train, y_test"
      ],
      "metadata": {
        "colab": {
          "base_uri": "https://localhost:8080/"
        },
        "collapsed": true,
        "id": "FxAwwHdQ9cSA",
        "outputId": "157df7ab-3845-451c-f2f0-e8bf2f7b921e"
      },
      "execution_count": 4,
      "outputs": [
        {
          "output_type": "execute_result",
          "data": {
            "text/plain": [
              "(tensor([[0.0000],\n",
              "         [0.0200],\n",
              "         [0.0400],\n",
              "         [0.0600],\n",
              "         [0.0800],\n",
              "         [0.1000],\n",
              "         [0.1200],\n",
              "         [0.1400],\n",
              "         [0.1600],\n",
              "         [0.1800],\n",
              "         [0.2000],\n",
              "         [0.2200],\n",
              "         [0.2400],\n",
              "         [0.2600],\n",
              "         [0.2800],\n",
              "         [0.3000],\n",
              "         [0.3200],\n",
              "         [0.3400],\n",
              "         [0.3600],\n",
              "         [0.3800],\n",
              "         [0.4000],\n",
              "         [0.4200],\n",
              "         [0.4400],\n",
              "         [0.4600],\n",
              "         [0.4800],\n",
              "         [0.5000],\n",
              "         [0.5200],\n",
              "         [0.5400],\n",
              "         [0.5600],\n",
              "         [0.5800],\n",
              "         [0.6000],\n",
              "         [0.6200],\n",
              "         [0.6400],\n",
              "         [0.6600],\n",
              "         [0.6800],\n",
              "         [0.7000],\n",
              "         [0.7200],\n",
              "         [0.7400],\n",
              "         [0.7600],\n",
              "         [0.7800]]),\n",
              " tensor([[0.8000],\n",
              "         [0.8200],\n",
              "         [0.8400],\n",
              "         [0.8600],\n",
              "         [0.8800],\n",
              "         [0.9000],\n",
              "         [0.9200],\n",
              "         [0.9400],\n",
              "         [0.9600],\n",
              "         [0.9800]]),\n",
              " tensor([[0.3000],\n",
              "         [0.3140],\n",
              "         [0.3280],\n",
              "         [0.3420],\n",
              "         [0.3560],\n",
              "         [0.3700],\n",
              "         [0.3840],\n",
              "         [0.3980],\n",
              "         [0.4120],\n",
              "         [0.4260],\n",
              "         [0.4400],\n",
              "         [0.4540],\n",
              "         [0.4680],\n",
              "         [0.4820],\n",
              "         [0.4960],\n",
              "         [0.5100],\n",
              "         [0.5240],\n",
              "         [0.5380],\n",
              "         [0.5520],\n",
              "         [0.5660],\n",
              "         [0.5800],\n",
              "         [0.5940],\n",
              "         [0.6080],\n",
              "         [0.6220],\n",
              "         [0.6360],\n",
              "         [0.6500],\n",
              "         [0.6640],\n",
              "         [0.6780],\n",
              "         [0.6920],\n",
              "         [0.7060],\n",
              "         [0.7200],\n",
              "         [0.7340],\n",
              "         [0.7480],\n",
              "         [0.7620],\n",
              "         [0.7760],\n",
              "         [0.7900],\n",
              "         [0.8040],\n",
              "         [0.8180],\n",
              "         [0.8320],\n",
              "         [0.8460]]),\n",
              " tensor([[0.8600],\n",
              "         [0.8740],\n",
              "         [0.8880],\n",
              "         [0.9020],\n",
              "         [0.9160],\n",
              "         [0.9300],\n",
              "         [0.9440],\n",
              "         [0.9580],\n",
              "         [0.9720],\n",
              "         [0.9860]]))"
            ]
          },
          "metadata": {},
          "execution_count": 4
        }
      ]
    },
    {
      "cell_type": "code",
      "source": [
        "# Making a function to represent the train and test data more accurately\n",
        "\n",
        "def plot_predictions(train_data = X_train,\n",
        "                    train_labels = y_train,\n",
        "                    test_data = X_test,\n",
        "                    test_labels = y_test,\n",
        "                    predictions = None):\n",
        "\n",
        "  \"\"\"Plotting training & test data, along with comparing predictions. \"\"\"\n",
        "  plt.figure(figsize=(10, 7))\n",
        "\n",
        "  #train data in blue\n",
        "  plt.scatter(train_data, train_labels, c = 'orange', s=4, label= 'Training Data')\n",
        "\n",
        "  #test data in green\n",
        "  plt.scatter(test_data, test_labels, c = 'purple', s=4, label= 'Testing Data')\n",
        "\n",
        "  # Checking if predictions exist\n",
        "  if predictions is not None:\n",
        "\n",
        "    #if they do plot the predictions, compared to test labels\n",
        "    plt.scatter(test_data, predictions, c='r', s=4, label='Predictions')\n",
        "\n",
        "  # Show the legend A legend in an axes is an area that describes the elements of a graph.\n",
        "  plt.legend(prop={\"size\" : 14});"
      ],
      "metadata": {
        "id": "iWTBAAu2-EPs"
      },
      "execution_count": 5,
      "outputs": []
    },
    {
      "cell_type": "code",
      "source": [
        "plot_predictions() # No red dots because there are no predictions\n",
        "\n",
        "\"\"\" Our dataset, training data in orage, testing data in purple, and predictions in red \"\"\"\n",
        "\"\"\" No predictions yet so no red dots\n",
        "    Make a model that learns the pattern of the orange dots\n",
        "    If we fit the model, the X values of the purple dots can predict the Y values of the purple dots\n",
        "    Pass model X test to predict Y test\n",
        "    Orange dots are input, Purple are ideal outputs\n",
        "    A perfect model would have red dots over the purple dots\"\"\""
      ],
      "metadata": {
        "colab": {
          "base_uri": "https://localhost:8080/",
          "height": 605
        },
        "id": "l_tkEgUYFCeU",
        "outputId": "61db5cd0-528f-4dc8-ae78-a4d81f9f6a4f"
      },
      "execution_count": 6,
      "outputs": [
        {
          "output_type": "execute_result",
          "data": {
            "text/plain": [
              "' No predictions yet so no red dots\\n    Make a model that learns the pattern of the orange dots\\n    If we fit the model, the X values of the purple dots can predict the Y values of the purple dots\\n    Pass model X test to predict Y test\\n    Orange dots are input, Purple are ideal outputs\\n    A perfect model would have red dots over the purple dots'"
            ],
            "application/vnd.google.colaboratory.intrinsic+json": {
              "type": "string"
            }
          },
          "metadata": {},
          "execution_count": 6
        },
        {
          "output_type": "display_data",
          "data": {
            "text/plain": [
              "<Figure size 1000x700 with 1 Axes>"
            ],
            "image/png": "[encoded data removed]"
          },
          "metadata": {}
        }
      ]
    },
    {
      "cell_type": "markdown",
      "source": [
        "Building a Model"
      ],
      "metadata": {
        "id": "DW9FoYs9JiMZ"
      }
    },
    {
      "cell_type": "code",
      "source": [
        "\"\"\" We created a relationship between X and y, the weight and bias through\n",
        "the linear regression formula is y = weight * X + bias\n",
        "gradient (weight) and bias (gradient)\n",
        "\n",
        "\n",
        "Using linear regression Y = a + b*X   a=weight, b=bias\n",
        "We need to create a mdoel that has a parameter for a and a parameter for b\n",
        "\"\"\""
      ],
      "metadata": {
        "colab": {
          "base_uri": "https://localhost:8080/",
          "height": 93
        },
        "id": "FWIfn0DHJhsa",
        "outputId": "2144f17b-3ea2-4521-c8e5-a3e813744364"
      },
      "execution_count": 7,
      "outputs": [
        {
          "output_type": "execute_result",
          "data": {
            "text/plain": [
              "' We created a relationship between X and y, the weight and bias through\\nthe linear regression formula is y = weight * X + bias\\ngradient (weight) and bias (gradient)\\n\\n\\nUsing linear regression Y = a + b*X   a=weight, b=bias\\nWe need to create a mdoel that has a parameter for a and a parameter for b\\n'"
            ],
            "application/vnd.google.colaboratory.intrinsic+json": {
              "type": "string"
            }
          },
          "metadata": {},
          "execution_count": 7
        }
      ]
    },
    {
      "cell_type": "code",
      "source": [
        "from torch import nn\n",
        "\n",
        "# creating a linear reg model class, using nn.Module chech toch.nn.Module for more info\n",
        "class LinearRegressionModel(nn.Module): # inherit from nn.Module, most things in PyTorch inherit from this.\n",
        " def __init__(self): # constructor taking self as a parameter\n",
        "    super().__init__()\n",
        "\n",
        "    #creating parameters\n",
        "    self.weights = nn.Parameter(torch.randn(1, requires_grad=True, dtype=torch.float))\n",
        "    self.bias = nn.Parameter(torch.randn(1, requires_grad=True, dtype=torch.float))\n",
        "\n",
        "  # Method to deifne computation in the model\n",
        "  #parameter x is expected to be a torch.Tensor and return a torch.Tensor\n",
        " def forward(self, x: torch.Tensor) -> torch.Tensor: # x is input data\n",
        "    return self.weights * x + self.bias\n",
        "\n",
        "    \"\"\" The model starts with random parameters both 'self' parameters, then it looks at the data training samples in this case\n",
        "        and then it computers and updates those random numbers to represent the pattern in the data graphed.\n",
        "        Random values from weight and bias will be put through the foward function.\n",
        "        It takes the weight and bias and it runs through the 'forward' calculation which is the same formula that we used\n",
        "        to create our data, this to represent as close as possible, if not perfect the known parameters (0.7 and 0.3)\n",
        "        Utilizing gradient descent algorithm \"\"\"\n"
      ],
      "metadata": {
        "id": "UHfzdYo9NPYh"
      },
      "execution_count": 8,
      "outputs": []
    },
    {
      "cell_type": "code",
      "source": [
        " ## Model building essentials from PyTorch\n",
        " '''\n",
        " -torch.nn = contains buildings for computational graphs (neural netword could be considered a computational graph)\n",
        " -torh.nn.Parameter = What paremeters should be tried on and learned by our models (commonly a PyTorch layer form torch.nn will set these for us)\n",
        " -torch.nn.Module = Base class for entirety of neural network modules in PyTorch (if subclassedm should overwrite forward)\n",
        " -torch.optim = You can find optimizers here. they are an aid with gradient descent algorithms.\n",
        " -def forward() = Defines computation in the model, all nn.Module subclasses require you to overwrite this method\n",
        " -torch.utils.data.Dataset = Represents a map between key & sample (label &features) pairs of your data. (e.g. images & associataed labels)\n",
        " -torch.utils.data.DataLoader = Creates python iterable over a torch dataset(allowing yo iterate over your data)\n",
        "\n",
        " review PyTorch cheaet sheet for more info\n",
        " '''"
      ],
      "metadata": {
        "colab": {
          "base_uri": "https://localhost:8080/",
          "height": 202
        },
        "id": "CFQURGI1RNr_",
        "outputId": "5baa1ca6-705e-4fe5-c0b6-9f0874686c04"
      },
      "execution_count": 9,
      "outputs": [
        {
          "output_type": "execute_result",
          "data": {
            "text/plain": [
              "'\\n-torch.nn = contains buildings for computational graphs (neural netword could be considered a computational graph)\\n-torh.nn.Parameter = What paremeters should be tried on and learned by our models (commonly a PyTorch layer form torch.nn will set these for us)\\n-torch.nn.Module = Base class for entirety of neural network modules in PyTorch (if subclassedm should overwrite forward)\\n-torch.optim = You can find optimizers here. they are an aid with gradient descent algorithms.\\n-def forward() = Defines computation in the model, all nn.Module subclasses require you to overwrite this method\\n-torch.utils.data.Dataset = Represents a map between key & sample (label &features) pairs of your data. (e.g. images & associataed labels)\\n-torch.utils.data.DataLoader = Creates python iterable over a torch dataset(allowing yo iterate over your data)\\n\\nreview PyTorch cheaet sheet for more info\\n'"
            ],
            "application/vnd.google.colaboratory.intrinsic+json": {
              "type": "string"
            }
          },
          "metadata": {},
          "execution_count": 9
        }
      ]
    },
    {
      "cell_type": "code",
      "source": [
        "# CHECKING CONTENTS of our recently created model\n",
        "'''\n",
        "This is done by using .parameters() method\n",
        "'''"
      ],
      "metadata": {
        "colab": {
          "base_uri": "https://localhost:8080/",
          "height": 38
        },
        "id": "zskHtt9EzCq7",
        "outputId": "beaba943-034b-4569-cf32-77f83550cb45"
      },
      "execution_count": 10,
      "outputs": [
        {
          "output_type": "execute_result",
          "data": {
            "text/plain": [
              "'\\nThis is done by using .parameters() method\\n'"
            ],
            "application/vnd.google.colaboratory.intrinsic+json": {
              "type": "string"
            }
          },
          "metadata": {},
          "execution_count": 10
        }
      ]
    },
    {
      "cell_type": "code",
      "source": [
        "# Creating a random seed because the parameters are cerated with random values\n",
        "# If there's no random seed, we'd get different values every time\n",
        "# We need a manual seed in this case\n",
        "torch.manual_seed(42)\n",
        "\n",
        "#Creating an instance of the linear regression model class (this is a subclass of nn.Module)\n",
        "first_model = LinearRegressionModel()\n",
        "\n",
        "# checking parameters of model\n",
        "print(f'Without a list {first_model.parameters()}')\n",
        "print(f'With a list \\n {list(first_model.parameters())}')"
      ],
      "metadata": {
        "colab": {
          "base_uri": "https://localhost:8080/"
        },
        "id": "Ec3AD43c0zCk",
        "outputId": "17634b8a-8972-4205-fe38-a7f12c41a94d"
      },
      "execution_count": 11,
      "outputs": [
        {
          "output_type": "stream",
          "name": "stdout",
          "text": [
            "Without a list <generator object Module.parameters at 0x7b01bf8ea030>\n",
            "With a list \n",
            " [Parameter containing:\n",
            "tensor([0.3367], requires_grad=True), Parameter containing:\n",
            "tensor([0.1288], requires_grad=True)]\n"
          ]
        }
      ]
    },
    {
      "cell_type": "code",
      "source": [
        "# Listing named parameters, we can see the random weight & bias here\n",
        "first_model.state_dict()"
      ],
      "metadata": {
        "colab": {
          "base_uri": "https://localhost:8080/"
        },
        "id": "YLrlQ77247-u",
        "outputId": "f99b5fc4-2fae-49a6-9201-daa17937867f"
      },
      "execution_count": 12,
      "outputs": [
        {
          "output_type": "execute_result",
          "data": {
            "text/plain": [
              "OrderedDict([('weights', tensor([0.3367])), ('bias', tensor([0.1288]))])"
            ]
          },
          "metadata": {},
          "execution_count": 12
        }
      ]
    },
    {
      "cell_type": "code",
      "source": [
        "# We need to take previous random weight & bias to the set ones, only in this case\n",
        "# usually there are no set weight&bias values\n",
        "weight, bias"
      ],
      "metadata": {
        "colab": {
          "base_uri": "https://localhost:8080/"
        },
        "id": "78lLlr3d9Z6Y",
        "outputId": "5e4d601d-f895-4663-ba34-5eb07982a0e3"
      },
      "execution_count": 13,
      "outputs": [
        {
          "output_type": "execute_result",
          "data": {
            "text/plain": [
              "(0.7, 0.3)"
            ]
          },
          "metadata": {},
          "execution_count": 13
        }
      ]
    },
    {
      "cell_type": "code",
      "source": [
        "# Prediction making\n",
        "\n",
        "'''\n",
        "We will see how well it predicts 'y_test' based on 'X_test'\n",
        "Passing data through the model (using the forward method), will return a prediction\n",
        "'''\n",
        "\n",
        "with torch.inference_mode():\n",
        "  y_preds = first_model(X_test)\n",
        "#passing x test data through the instance model\n",
        " #it will take x_test values as input and will return y_test values as result\n",
        "y_preds"
      ],
      "metadata": {
        "colab": {
          "base_uri": "https://localhost:8080/"
        },
        "id": "CgW_GfR1-q1o",
        "outputId": "bdeef0db-78d5-4a7b-84cb-5298f7d0f35e"
      },
      "execution_count": 14,
      "outputs": [
        {
          "output_type": "execute_result",
          "data": {
            "text/plain": [
              "tensor([[0.3982],\n",
              "        [0.4049],\n",
              "        [0.4116],\n",
              "        [0.4184],\n",
              "        [0.4251],\n",
              "        [0.4318],\n",
              "        [0.4386],\n",
              "        [0.4453],\n",
              "        [0.4520],\n",
              "        [0.4588]])"
            ]
          },
          "metadata": {},
          "execution_count": 14
        }
      ]
    },
    {
      "cell_type": "code",
      "source": [
        "#\n",
        "# Same operation with no inference mode\n",
        "#y_preds = first_model(X_test)\n",
        "#y_preds"
      ],
      "metadata": {
        "id": "F7rqGL4g1ngk"
      },
      "execution_count": 15,
      "outputs": []
    },
    {
      "cell_type": "code",
      "source": [
        "# comparing predictions with actual results\n",
        "y_test, y_preds"
      ],
      "metadata": {
        "colab": {
          "base_uri": "https://localhost:8080/"
        },
        "id": "GP2IYyPlHZLO",
        "outputId": "36d6ffb6-aeab-40d2-aa72-7229d50d2bdf"
      },
      "execution_count": 16,
      "outputs": [
        {
          "output_type": "execute_result",
          "data": {
            "text/plain": [
              "(tensor([[0.8600],\n",
              "         [0.8740],\n",
              "         [0.8880],\n",
              "         [0.9020],\n",
              "         [0.9160],\n",
              "         [0.9300],\n",
              "         [0.9440],\n",
              "         [0.9580],\n",
              "         [0.9720],\n",
              "         [0.9860]]),\n",
              " tensor([[0.3982],\n",
              "         [0.4049],\n",
              "         [0.4116],\n",
              "         [0.4184],\n",
              "         [0.4251],\n",
              "         [0.4318],\n",
              "         [0.4386],\n",
              "         [0.4453],\n",
              "         [0.4520],\n",
              "         [0.4588]]))"
            ]
          },
          "metadata": {},
          "execution_count": 16
        }
      ]
    },
    {
      "cell_type": "code",
      "source": [
        "# plotting the predictions\n",
        "plot_predictions(predictions=y_preds)"
      ],
      "metadata": {
        "colab": {
          "base_uri": "https://localhost:8080/",
          "height": 530
        },
        "id": "2vh9TyLQv2I4",
        "outputId": "0785c9d2-32ac-459f-bab8-22fbe8b85973"
      },
      "execution_count": 17,
      "outputs": [
        {
          "output_type": "display_data",
          "data": {
            "text/plain": [
              "<Figure size 1000x700 with 1 Axes>"
            ],
            "image/png": "[encoded data removed]"
          },
          "metadata": {}
        }
      ]
    },
    {
      "cell_type": "markdown",
      "source": [
        "# 3. Training the model\n",
        "## The idea of training is for the model to go from some unknown parameters (that could be random) to actively known parameters.\n",
        "\n",
        "## Go from a poor representation of data (y_test & y_preds graphed) to a better one\n",
        "\n",
        "## Loss/Cost/Criterion functions can measure how poor or how wrong your model predictions are.\n",
        "\n",
        "## A loss fucntion is a function that measures how wrong your model's predictions are to the ideal outputs, the lower the better\n",
        "\n",
        "## An optimizer function takes the loss of a model and adjusts the model parameters e.g. weight & bias to IMPROVE the loss function.\n",
        "\n",
        "## For PyTorch. we need:\n",
        "* Training loop\n",
        "* Testing loop"
      ],
      "metadata": {
        "id": "gl8J-AKKI1Fv"
      }
    },
    {
      "cell_type": "code",
      "source": [
        "list(first_model.parameters())"
      ],
      "metadata": {
        "colab": {
          "base_uri": "https://localhost:8080/"
        },
        "id": "QkVPF9eYAvQ2",
        "outputId": "04ef5c14-e828-4f02-befb-bc0bb50472fe"
      },
      "execution_count": 18,
      "outputs": [
        {
          "output_type": "execute_result",
          "data": {
            "text/plain": [
              "[Parameter containing:\n",
              " tensor([0.3367], requires_grad=True),\n",
              " Parameter containing:\n",
              " tensor([0.1288], requires_grad=True)]"
            ]
          },
          "metadata": {},
          "execution_count": 18
        }
      ]
    },
    {
      "cell_type": "code",
      "source": [
        "#checking our models parameters(value that the model sets on its own)\n",
        "first_model.state_dict()"
      ],
      "metadata": {
        "colab": {
          "base_uri": "https://localhost:8080/"
        },
        "id": "i5RW3fRzCQ-F",
        "outputId": "b83ce879-8946-47f3-c84e-fb3d7274cd25"
      },
      "execution_count": 19,
      "outputs": [
        {
          "output_type": "execute_result",
          "data": {
            "text/plain": [
              "OrderedDict([('weights', tensor([0.3367])), ('bias', tensor([0.1288]))])"
            ]
          },
          "metadata": {},
          "execution_count": 19
        }
      ]
    },
    {
      "cell_type": "code",
      "source": [
        "# setting up a loss function (evaluates how wrong our model is)\n",
        "fn_loss = nn.L1Loss()\n",
        "\n",
        "# setting up an optimizer (stochastic gradient descent, adjusts our model parameters)\n",
        "fn_optim = torch.optim.SGD(params=first_model.parameters(), lr=0.01) #model parameters & learning rate as params\n",
        "# learning rate is an important hyperparameter (value that DS/ML engineer sets)\n",
        "# taking baby steps in the hundreds .01 to have a smaller change in the parameter\n",
        "# larger learning rate results in larger changes"
      ],
      "metadata": {
        "id": "oHA5DkWVNcED"
      },
      "execution_count": 20,
      "outputs": []
    },
    {
      "cell_type": "code",
      "source": [
        "# Our major goal is to reduce the MAE of our workflow"
      ],
      "metadata": {
        "id": "CjQgicVCdZgr"
      },
      "execution_count": 21,
      "outputs": []
    },
    {
      "cell_type": "markdown",
      "source": [
        "##Building a training loop & testing loop\n",
        "#For this we need:\n",
        "* To loop through the data\n",
        "* We need Foward pass /  Forward propagation - makes predictions in data(involves data moving through our model's functions such as foward)\n",
        "* We must calculate loss (comparing forward pass predictions to GROUND truth labels)\n",
        "* We will optimize the zero grad\n",
        "* We will loss backward through BACKPROPAGATION - move backwards the network, calculations for each of the parameters of the model with respect to the loss\n",
        "* We will do Optimizer Step GRADIENT DESCENT, this will adjust model parameters to try and improve the loss\n",
        "\n",
        "#Our models utilize math to go from random parameters to better parameters"
      ],
      "metadata": {
        "id": "6e_Xed95sV3P"
      }
    },
    {
      "cell_type": "code",
      "source": [
        "torch.manual_seed(42)\n",
        "\n",
        "# an EPOCH is a complete pass of training data through an algorithm\n",
        "epochs = 100\n",
        "\n",
        "#-------TRAINING\n",
        "\n",
        "# Step 0: We loop through the data\n",
        "for epoch in range(epochs):\n",
        "  # MODEL DOT TRAIN FOR TESTING\n",
        "  first_model.train() # set model into train mode, sets param that req gradients to req gradients\n",
        "\n",
        "# Step 1: Forward pass, passing data (X_train) to get y_pred\n",
        "  y_pred = first_model(X_train)\n",
        "\n",
        "# Step 2: Loss calculation\n",
        "  loss_calc = fn_loss(y_pred, y_train) # input first, target second\n",
        "  # we calculate differences between training and ideal predictions\n",
        "  print(f\"Loss: {loss_calc}\")\n",
        "# Step 3: Optimizer zero grad\n",
        "  fn_optim.zero_grad() #the optimizer changes will accumulate by default, through the loop\n",
        "  # this is why we zero grad\n",
        "\n",
        "# Step 4: Perform backpropagation on the loss with respect to model param\n",
        "  loss_calc.backward()\n",
        "\n",
        "# Step 5: Optimizer step (gradient descent), this normally occurs after backpropagation\n",
        "  fn_optim.step()\n",
        "  #updates our model parameters to try to get them as close as the og ones\n",
        "  # if this occurs, the LOSS should be close to 0\n",
        "\n",
        "#-------TESTING\n",
        "\n",
        "# MODEL DOT EVAL\n",
        "  first_model.eval() # turns off gradient tracking\n",
        "\n",
        "# WITH TORCH INFERENCE MODE\n",
        "\n",
        "# DO THE FORWARD PASS\n",
        "\n",
        "# ? CALCULATE THE LOSS\n",
        "\n",
        "# PRINT OUT WHATS HAAAPPENING with w&b\n",
        "print(first_model.state_dict())\n",
        "\n",
        "#compare to original w&b vals (this isnt the case in a real problem)\n",
        "weight, bias\n",
        "\n",
        "  # IN ORDER TO SEE SOME ACTION, after training model:\n",
        "  # print the loss value, in this case loss_calc\n",
        "  # watch how it should be going down after eache poch, at least in this case"
      ],
      "metadata": {
        "id": "mvrhWveSzNKI",
        "colab": {
          "base_uri": "https://localhost:8080/"
        },
        "outputId": "1e02790b-bd87-404c-96a7-2477ee367dd5"
      },
      "execution_count": 22,
      "outputs": [
        {
          "output_type": "stream",
          "name": "stdout",
          "text": [
            "Loss: 0.31288138031959534\n",
            "Loss: 0.3013603389263153\n",
            "Loss: 0.28983935713768005\n",
            "Loss: 0.2783183455467224\n",
            "Loss: 0.26679736375808716\n",
            "Loss: 0.2552763521671295\n",
            "Loss: 0.24375534057617188\n",
            "Loss: 0.23223432898521423\n",
            "Loss: 0.22071333229541779\n",
            "Loss: 0.20919232070446014\n",
            "Loss: 0.1976713240146637\n",
            "Loss: 0.18615034222602844\n",
            "Loss: 0.1746293306350708\n",
            "Loss: 0.16310831904411316\n",
            "Loss: 0.1515873372554779\n",
            "Loss: 0.14006635546684265\n",
            "Loss: 0.1285453587770462\n",
            "Loss: 0.11702437698841095\n",
            "Loss: 0.1060912236571312\n",
            "Loss: 0.09681284427642822\n",
            "Loss: 0.08908725529909134\n",
            "Loss: 0.08227583020925522\n",
            "Loss: 0.07638873159885406\n",
            "Loss: 0.07160007208585739\n",
            "Loss: 0.06747635453939438\n",
            "Loss: 0.06395438313484192\n",
            "Loss: 0.06097004935145378\n",
            "Loss: 0.05845819041132927\n",
            "Loss: 0.05635259300470352\n",
            "Loss: 0.0545857772231102\n",
            "Loss: 0.053148526698350906\n",
            "Loss: 0.05181945487856865\n",
            "Loss: 0.05069301277399063\n",
            "Loss: 0.0498228520154953\n",
            "Loss: 0.04895269125699997\n",
            "Loss: 0.04819351062178612\n",
            "Loss: 0.047531817108392715\n",
            "Loss: 0.04692792519927025\n",
            "Loss: 0.04642331600189209\n",
            "Loss: 0.04591871052980423\n",
            "Loss: 0.04543796554207802\n",
            "Loss: 0.04503796249628067\n",
            "Loss: 0.04463795945048332\n",
            "Loss: 0.04423796385526657\n",
            "Loss: 0.04383796453475952\n",
            "Loss: 0.04343796148896217\n",
            "Loss: 0.043074630200862885\n",
            "Loss: 0.04272563382983208\n",
            "Loss: 0.04237663000822067\n",
            "Loss: 0.04202762991189957\n",
            "Loss: 0.04167863354086876\n",
            "Loss: 0.04132963344454765\n",
            "Loss: 0.04098063334822655\n",
            "Loss: 0.04063162952661514\n",
            "Loss: 0.040282636880874634\n",
            "Loss: 0.039933640509843826\n",
            "Loss: 0.03958464413881302\n",
            "Loss: 0.03923564404249191\n",
            "Loss: 0.03888664394617081\n",
            "Loss: 0.0385376438498497\n",
            "Loss: 0.03818932920694351\n",
            "Loss: 0.03785243630409241\n",
            "Loss: 0.0375034399330616\n",
            "Loss: 0.037164121866226196\n",
            "Loss: 0.03681822493672371\n",
            "Loss: 0.03647511452436447\n",
            "Loss: 0.03613303601741791\n",
            "Loss: 0.03578609973192215\n",
            "Loss: 0.03544783592224121\n",
            "Loss: 0.035098835825920105\n",
            "Loss: 0.03476089984178543\n",
            "Loss: 0.03441363573074341\n",
            "Loss: 0.03407188132405281\n",
            "Loss: 0.03372843936085701\n",
            "Loss: 0.03338287025690079\n",
            "Loss: 0.033043231815099716\n",
            "Loss: 0.03269423171877861\n",
            "Loss: 0.032357655465602875\n",
            "Loss: 0.03200903534889221\n",
            "Loss: 0.03166864812374115\n",
            "Loss: 0.03132382780313492\n",
            "Loss: 0.030979642644524574\n",
            "Loss: 0.030638623982667923\n",
            "Loss: 0.0302906334400177\n",
            "Loss: 0.029953425750136375\n",
            "Loss: 0.02960442565381527\n",
            "Loss: 0.029265418648719788\n",
            "Loss: 0.028919223695993423\n",
            "Loss: 0.028576409444212914\n",
            "Loss: 0.028234025463461876\n",
            "Loss: 0.02788739837706089\n",
            "Loss: 0.02754882536828518\n",
            "Loss: 0.027199819684028625\n",
            "Loss: 0.026862185448408127\n",
            "Loss: 0.02651461586356163\n",
            "Loss: 0.026173178106546402\n",
            "Loss: 0.025829419493675232\n",
            "Loss: 0.02548416517674923\n",
            "Loss: 0.025144213810563087\n",
            "Loss: 0.02479521557688713\n",
            "OrderedDict([('weights', tensor([0.5784])), ('bias', tensor([0.3513]))])\n"
          ]
        },
        {
          "output_type": "execute_result",
          "data": {
            "text/plain": [
              "(0.7, 0.3)"
            ]
          },
          "metadata": {},
          "execution_count": 22
        }
      ]
    },
    {
      "cell_type": "code",
      "source": [
        "# IN ORDER TO SUCCEED!!!!!!!!!!!!!!!!!!!!!!!!!!!!!!!!!!!\n",
        "\n",
        "# The goal is to move the random weight and bias ton the original weight and bias values\n",
        "# FOR EXAMPLE after the first epoch, printing the loss & the weights&bias we get:\n",
        "# Loss: 0.301360......\n",
        "# weights = 0.3406 bias = 0.1388\n",
        "\n",
        "# In order to be succeed we need to match these random weight&bias & diminish loss:\n",
        "# Loss should be close to 0\n",
        "# To the original ones:\n",
        "# weight = 0.7 bias = 0.3\n",
        "\n",
        "# NOTE IN REAL PROBLEMS WE DONT REALLY KNOW WHERE THE WEIGHT AND BIAS SHOULD BE\n",
        "# EXAMPLE PURPOSES"
      ],
      "metadata": {
        "id": "2J6D5KjBjVVS"
      },
      "execution_count": 23,
      "outputs": []
    },
    {
      "cell_type": "markdown",
      "source": [],
      "metadata": {
        "id": "jdAoQ-JljeZS"
      }
    },
    {
      "cell_type": "code",
      "source": [
        "# doing predictions and comparing the predictions to the actual values\n",
        "with torch.inference_mode():\n",
        "  y_preds_new = first_model(X_test)"
      ],
      "metadata": {
        "id": "93fsX7izqOKP"
      },
      "execution_count": 24,
      "outputs": []
    },
    {
      "cell_type": "code",
      "source": [
        "# initial predictions on plot compared to actual values\n",
        "plot_predictions(predictions=y_preds)"
      ],
      "metadata": {
        "colab": {
          "base_uri": "https://localhost:8080/",
          "height": 530
        },
        "id": "pYHeKlkHnQdI",
        "outputId": "a6cf2fc1-2203-4abc-df7e-228e6307f21a"
      },
      "execution_count": 25,
      "outputs": [
        {
          "output_type": "display_data",
          "data": {
            "text/plain": [
              "<Figure size 1000x700 with 1 Axes>"
            ],
            "image/png": "[encoded data removed]"
          },
          "metadata": {}
        }
      ]
    },
    {
      "cell_type": "code",
      "source": [
        "# new predictions after running some epochs\n",
        "plot_predictions(predictions=y_preds_new)"
      ],
      "metadata": {
        "colab": {
          "base_uri": "https://localhost:8080/",
          "height": 530
        },
        "id": "OeXlTJZEnVlg",
        "outputId": "78c8574a-2179-40b8-ef11-a6990bbad010"
      },
      "execution_count": 26,
      "outputs": [
        {
          "output_type": "display_data",
          "data": {
            "text/plain": [
              "<Figure size 1000x700 with 1 Axes>"
            ],
            "image/png": "[encoded data removed]"
          },
          "metadata": {}
        }
      ]
    },
    {
      "cell_type": "markdown",
      "source": [
        "# Writing the testing loop\n",
        "### NOTE: Training and Testing loops are not needed to be written together, you can functionize them (make a function out of them)\n",
        "\n",
        "### NOTE: This is a continuation of the previous code\n"
      ],
      "metadata": {
        "id": "qps2jzCzrsqy"
      }
    },
    {
      "cell_type": "code",
      "source": [
        "torch.manual_seed(42)\n",
        "\n",
        "#making a second instance of the LR model for this section, should be the same as prior but reset\n",
        "second_model = LinearRegressionModel()\n",
        "\n",
        "# an EPOCH is a complete pass of training data through an algorithm\n",
        "epochs = 100\n",
        "\n",
        "#-------TRAINING------------------------WORKING WITH TRAINING DATA--------------\n",
        "\n",
        "# Step 0: We loop through the data\n",
        "for epoch in range(epochs):\n",
        "   # MODEL DOT TRAIN FOR TESTING\n",
        "  second_model.train() # set model into train mode, sets param that req gradients to req gradients\n",
        "\n",
        "# Step 1: Forward pass, passing data (X_train) to get y_pred\n",
        "  y_pred = second_model(X_train)\n",
        "\n",
        "# Step 2: Loss calculation\n",
        "  loss_calc = fn_loss(y_pred, y_train) # input first, target second\n",
        "  # we calculate differences between training and ideal predictions\n",
        "  #print(f\"Loss: {loss_calc}\")\n",
        "# Step 3: Optimizer zero grad\n",
        "  fn_optim.zero_grad() #the optimizer changes will accumulate by default, through the loop\n",
        "  # this is why we zero grad\n",
        "\n",
        "# Step 4: Perform backpropagation on the loss with respect to model param\n",
        "  loss_calc.backward()\n",
        "\n",
        "# Step 5: Optimizer step (gradient descent), this normally occurs after backpropagation\n",
        "  fn_optim.step()\n",
        "  #updates our model parameters to try to get them as close as the og ones\n",
        "  # if this occurs, the LOSS should be close to 0\n",
        "\n",
        "#+++++++++++++ TESTING +++++++++++++++++++++++WORKING WITH TEST DATA++++++++++++++\n",
        "# MODEL DOT EVAL FOR TESTING\n",
        "  second_model.eval() #turns offettings not needed when testing\n",
        "\n",
        "# WITH TORCH INFERENCE MODE\n",
        "\n",
        "  with torch.inference_mode(): #turns off gradient tracking &/or  more for testing\n",
        "# DO THE FORWARD PASS\n",
        "    test_pred = second_model(X_test)\n",
        "\n",
        "# ? CALCULATE THE LOSS\n",
        "    test_loss = fn_loss(test_pred, y_test)\n",
        "\n",
        "# PRINT OUT WHATS HAPPENING every 10 epochs\n",
        "  if epoch % 10 == 0:\n",
        "   print(f\"Epoch: {epoch} | Loss: {loss_calc}) | Test loss:{test_loss}\")\n",
        "# PRINT OUT WHATS HAAAPPENING with w&b\n",
        "   print(second_model.state_dict())\n",
        "\n",
        "\n",
        "#compare to original w&b vals (this isnt the case in a real problem)\n",
        "weight, bias"
      ],
      "metadata": {
        "colab": {
          "base_uri": "https://localhost:8080/"
        },
        "id": "0LEPqlI3rz-G",
        "outputId": "26256642-5dc6-4149-f568-17e37a206465"
      },
      "execution_count": 29,
      "outputs": [
        {
          "output_type": "stream",
          "name": "stdout",
          "text": [
            "Epoch: 0 | Loss: 0.31288138031959534) | Test loss:0.4945361614227295\n",
            "OrderedDict([('weights', tensor([0.3367])), ('bias', tensor([0.1288]))])\n",
            "Epoch: 10 | Loss: 0.31288138031959534) | Test loss:0.4945361614227295\n",
            "OrderedDict([('weights', tensor([0.3367])), ('bias', tensor([0.1288]))])\n",
            "Epoch: 20 | Loss: 0.31288138031959534) | Test loss:0.4945361614227295\n",
            "OrderedDict([('weights', tensor([0.3367])), ('bias', tensor([0.1288]))])\n",
            "Epoch: 30 | Loss: 0.31288138031959534) | Test loss:0.4945361614227295\n",
            "OrderedDict([('weights', tensor([0.3367])), ('bias', tensor([0.1288]))])\n",
            "Epoch: 40 | Loss: 0.31288138031959534) | Test loss:0.4945361614227295\n",
            "OrderedDict([('weights', tensor([0.3367])), ('bias', tensor([0.1288]))])\n",
            "Epoch: 50 | Loss: 0.31288138031959534) | Test loss:0.4945361614227295\n",
            "OrderedDict([('weights', tensor([0.3367])), ('bias', tensor([0.1288]))])\n",
            "Epoch: 60 | Loss: 0.31288138031959534) | Test loss:0.4945361614227295\n",
            "OrderedDict([('weights', tensor([0.3367])), ('bias', tensor([0.1288]))])\n",
            "Epoch: 70 | Loss: 0.31288138031959534) | Test loss:0.4945361614227295\n",
            "OrderedDict([('weights', tensor([0.3367])), ('bias', tensor([0.1288]))])\n",
            "Epoch: 80 | Loss: 0.31288138031959534) | Test loss:0.4945361614227295\n",
            "OrderedDict([('weights', tensor([0.3367])), ('bias', tensor([0.1288]))])\n",
            "Epoch: 90 | Loss: 0.31288138031959534) | Test loss:0.4945361614227295\n",
            "OrderedDict([('weights', tensor([0.3367])), ('bias', tensor([0.1288]))])\n"
          ]
        },
        {
          "output_type": "execute_result",
          "data": {
            "text/plain": [
              "(0.7, 0.3)"
            ]
          },
          "metadata": {},
          "execution_count": 29
        }
      ]
    },
    {
      "cell_type": "code",
      "source": [],
      "metadata": {
        "id": "uWw0gVH58pLi"
      },
      "execution_count": null,
      "outputs": []
    }
  ]
}