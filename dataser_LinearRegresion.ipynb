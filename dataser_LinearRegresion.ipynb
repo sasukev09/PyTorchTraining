{
  "nbformat": 4,
  "nbformat_minor": 0,
  "metadata": {
    "colab": {
      "provenance": [],
      "authorship_tag": "ABX9TyNT62gjreFvq8saRwtQPXxQ"
    },
    "kernelspec": {
      "name": "python3",
      "display_name": "Python 3"
    },
    "language_info": {
      "name": "python"
    }
  },
  "cells": [
    {
      "cell_type": "code",
      "source": [
        "import torch\n",
        "from torch import nn # nn = neural networks\n",
        "import matplotlib.pyplot as plt\n",
        "\n",
        "torch.__version__"
      ],
      "metadata": {
        "colab": {
          "base_uri": "https://localhost:8080/",
          "height": 38
        },
        "id": "9E6LgpB_8kAf",
        "outputId": "b5312382-0fa4-4fc1-9251-c8ebaa826a81"
      },
      "execution_count": 1,
      "outputs": [
        {
          "output_type": "execute_result",
          "data": {
            "text/plain": [
              "'2.3.1+cu121'"
            ],
            "application/vnd.google.colaboratory.intrinsic+json": {
              "type": "string"
            }
          },
          "metadata": {},
          "execution_count": 1
        }
      ]
    },
    {
      "cell_type": "code",
      "execution_count": 2,
      "metadata": {
        "colab": {
          "base_uri": "https://localhost:8080/"
        },
        "id": "TV3boN-wd1Rm",
        "outputId": "3d4d0836-29fa-445c-d7da-44db4d86bd12"
      },
      "outputs": [
        {
          "output_type": "stream",
          "name": "stdout",
          "text": [
            "Input numbers:\n",
            " tensor([[0.0000],\n",
            "        [0.0200],\n",
            "        [0.0400],\n",
            "        [0.0600],\n",
            "        [0.0800],\n",
            "        [0.1000],\n",
            "        [0.1200],\n",
            "        [0.1400],\n",
            "        [0.1600],\n",
            "        [0.1800]])\n",
            " Output numbers:\n",
            " tensor([[0.3000],\n",
            "        [0.3140],\n",
            "        [0.3280],\n",
            "        [0.3420],\n",
            "        [0.3560],\n",
            "        [0.3700],\n",
            "        [0.3840],\n",
            "        [0.3980],\n",
            "        [0.4120],\n",
            "        [0.4260]]) \n",
            "(50, 50)\n"
          ]
        }
      ],
      "source": [
        "# Parameters \"known\" are created\n",
        "# build a model that estimates thse numbers\n",
        "import torch\n",
        "\n",
        "weight = 0.7\n",
        "bias = 0.3\n",
        "\n",
        "\n",
        "#create numbers\n",
        "start = 0\n",
        "end = 1\n",
        "\n",
        "#gap of a step\n",
        "step = 0.02\n",
        "\n",
        "# X is INPUT a matrix or a tensor, capitol . Lowercase is a vector\n",
        "X = torch.arange(start, end, step).unsqueeze(dim=1) #unsqueeze adds extra dim\n",
        "\n",
        "# IDEAL OUTPUT y, this case a linear regression formula\n",
        "y = weight * X + bias\n",
        "\n",
        "print(f\"Input numbers:\\n {X[:10]}\\n Output numbers:\\n {y[:10]} \\n{len(X), len(y)}\")"
      ]
    },
    {
      "cell_type": "code",
      "source": [
        "# We split the data into training and test sets\n",
        "# One of the most important concepts in machine learning in general\n",
        "train_split = int(0.8 * len(X))\n",
        "\n",
        "# creating train and test sets, notice index notation\n",
        "# getting everything before & after train_split (40)\n",
        "X_train, y_train = X[:train_split], y[:train_split] # 0-40 = 40\n",
        "X_test, y_test = X[train_split:], y[train_split:] # 40-50 = 10\n",
        "\n",
        "len(X_train), len(y_train), len(X_test), len(y_test)\n",
        "\n"
      ],
      "metadata": {
        "colab": {
          "base_uri": "https://localhost:8080/"
        },
        "id": "Q_UNubkUyuqP",
        "outputId": "8eb5c63a-9ea1-45a3-eda1-2e3553a8e215"
      },
      "execution_count": 3,
      "outputs": [
        {
          "output_type": "execute_result",
          "data": {
            "text/plain": [
              "(40, 40, 10, 10)"
            ]
          },
          "metadata": {},
          "execution_count": 3
        }
      ]
    },
    {
      "cell_type": "code",
      "source": [
        "# Numerical representation of our test and train data for features and labels\n",
        "X_train, X_test, y_train, y_test"
      ],
      "metadata": {
        "colab": {
          "base_uri": "https://localhost:8080/"
        },
        "collapsed": true,
        "id": "FxAwwHdQ9cSA",
        "outputId": "9680b21f-6b78-444c-a2cd-a2b8fdc5fab4"
      },
      "execution_count": 4,
      "outputs": [
        {
          "output_type": "execute_result",
          "data": {
            "text/plain": [
              "(tensor([[0.0000],\n",
              "         [0.0200],\n",
              "         [0.0400],\n",
              "         [0.0600],\n",
              "         [0.0800],\n",
              "         [0.1000],\n",
              "         [0.1200],\n",
              "         [0.1400],\n",
              "         [0.1600],\n",
              "         [0.1800],\n",
              "         [0.2000],\n",
              "         [0.2200],\n",
              "         [0.2400],\n",
              "         [0.2600],\n",
              "         [0.2800],\n",
              "         [0.3000],\n",
              "         [0.3200],\n",
              "         [0.3400],\n",
              "         [0.3600],\n",
              "         [0.3800],\n",
              "         [0.4000],\n",
              "         [0.4200],\n",
              "         [0.4400],\n",
              "         [0.4600],\n",
              "         [0.4800],\n",
              "         [0.5000],\n",
              "         [0.5200],\n",
              "         [0.5400],\n",
              "         [0.5600],\n",
              "         [0.5800],\n",
              "         [0.6000],\n",
              "         [0.6200],\n",
              "         [0.6400],\n",
              "         [0.6600],\n",
              "         [0.6800],\n",
              "         [0.7000],\n",
              "         [0.7200],\n",
              "         [0.7400],\n",
              "         [0.7600],\n",
              "         [0.7800]]),\n",
              " tensor([[0.8000],\n",
              "         [0.8200],\n",
              "         [0.8400],\n",
              "         [0.8600],\n",
              "         [0.8800],\n",
              "         [0.9000],\n",
              "         [0.9200],\n",
              "         [0.9400],\n",
              "         [0.9600],\n",
              "         [0.9800]]),\n",
              " tensor([[0.3000],\n",
              "         [0.3140],\n",
              "         [0.3280],\n",
              "         [0.3420],\n",
              "         [0.3560],\n",
              "         [0.3700],\n",
              "         [0.3840],\n",
              "         [0.3980],\n",
              "         [0.4120],\n",
              "         [0.4260],\n",
              "         [0.4400],\n",
              "         [0.4540],\n",
              "         [0.4680],\n",
              "         [0.4820],\n",
              "         [0.4960],\n",
              "         [0.5100],\n",
              "         [0.5240],\n",
              "         [0.5380],\n",
              "         [0.5520],\n",
              "         [0.5660],\n",
              "         [0.5800],\n",
              "         [0.5940],\n",
              "         [0.6080],\n",
              "         [0.6220],\n",
              "         [0.6360],\n",
              "         [0.6500],\n",
              "         [0.6640],\n",
              "         [0.6780],\n",
              "         [0.6920],\n",
              "         [0.7060],\n",
              "         [0.7200],\n",
              "         [0.7340],\n",
              "         [0.7480],\n",
              "         [0.7620],\n",
              "         [0.7760],\n",
              "         [0.7900],\n",
              "         [0.8040],\n",
              "         [0.8180],\n",
              "         [0.8320],\n",
              "         [0.8460]]),\n",
              " tensor([[0.8600],\n",
              "         [0.8740],\n",
              "         [0.8880],\n",
              "         [0.9020],\n",
              "         [0.9160],\n",
              "         [0.9300],\n",
              "         [0.9440],\n",
              "         [0.9580],\n",
              "         [0.9720],\n",
              "         [0.9860]]))"
            ]
          },
          "metadata": {},
          "execution_count": 4
        }
      ]
    },
    {
      "cell_type": "code",
      "source": [
        "# Making a function to represent the train and test data more accurately\n",
        "\n",
        "def plot_predictions(train_data = X_train,\n",
        "                    train_labels = y_train,\n",
        "                    test_data = X_test,\n",
        "                    test_labels = y_test,\n",
        "                    predictions = None):\n",
        "\n",
        "  \"\"\"Plots training & test data, along with comparing predictions. \"\"\"\n",
        "  plt.figure(figsize=(10, 7))\n",
        "\n",
        "  #train data in blue\n",
        "  plt.scatter(train_data, train_labels, c = 'orange', s=4, label= 'Training Data')\n",
        "\n",
        "  #test data in green\n",
        "  plt.scatter(test_data, test_labels, c = 'purple', s=4, label= 'Testing Data')\n",
        "\n",
        "  # Checking if predictions exist\n",
        "  if predictions is not None:\n",
        "\n",
        "    #if they do plot the predictions, compared to test labels\n",
        "    plt.scatter(test_data, predictions, c='r', s=4, label='Predictions')\n",
        "\n",
        "  # Show the legend A legend in an axes is an area that describes the elements of a graph.\n",
        "  plt.legend(prop={\"size\" : 14});"
      ],
      "metadata": {
        "id": "iWTBAAu2-EPs"
      },
      "execution_count": 5,
      "outputs": []
    },
    {
      "cell_type": "code",
      "source": [
        "plot_predictions() # No red dots because there are no predictions\n",
        "\n",
        "\"\"\" Our dataset, training data in orage, testing data in purple, and predictions in red\n",
        "    No predictions yet so no red dots\n",
        "    Make a model that learns the pattern of the orange dots\n",
        "    If we fit the model, the X values of the purple dots can predict the Y values of the purple dots\n",
        "    Pass model X test to predict Y test\n",
        "    Orange dots are input, Purple are ideal outputs\n",
        "    A perfect model would have red dots over the purple dots\"\"\""
      ],
      "metadata": {
        "colab": {
          "base_uri": "https://localhost:8080/",
          "height": 655
        },
        "id": "l_tkEgUYFCeU",
        "outputId": "29daf54a-357d-4b89-92fe-0b9e15d0e394"
      },
      "execution_count": 6,
      "outputs": [
        {
          "output_type": "execute_result",
          "data": {
            "text/plain": [
              "' Our dataset, training data in orage, testing data in purple, and predictions in red\\n    No predictions yet so no red dots\\n    Make a model that learns the pattern of the orange dots\\n    If we fit the model, the X values of the purple dots can predict the Y values of the purple dots\\n    Pass model X test to predict Y test\\n    Orange dots are input, Purple are ideal outputs\\n    A perfect model would have red dots over the purple dots'"
            ],
            "application/vnd.google.colaboratory.intrinsic+json": {
              "type": "string"
            }
          },
          "metadata": {},
          "execution_count": 6
        },
        {
          "output_type": "display_data",
          "data": {
            "text/plain": [
              "<Figure size 1000x700 with 1 Axes>"
            ],
            "image/png": "[encoded data removed]"
          },
          "metadata": {}
        }
      ]
    },
    {
      "cell_type": "markdown",
      "source": [
        "Building a Model"
      ],
      "metadata": {
        "id": "DW9FoYs9JiMZ"
      }
    },
    {
      "cell_type": "code",
      "source": [
        "\"\"\" We created a relationship between X and y, the weight and bias through\n",
        "the linear regression formula is y = weight * X + bias\n",
        "gradient (weight) and bias (gradient)\n",
        "\n",
        "\n",
        "Using linear regression Y = a + b*X   a=weight, b=bias\n",
        "We need to create a mdoel that has a parameter for a and a parameter for b\n",
        "\"\"\""
      ],
      "metadata": {
        "colab": {
          "base_uri": "https://localhost:8080/",
          "height": 55
        },
        "id": "FWIfn0DHJhsa",
        "outputId": "1fd53c28-5021-4070-996b-3ecc403a7101"
      },
      "execution_count": 7,
      "outputs": [
        {
          "output_type": "execute_result",
          "data": {
            "text/plain": [
              "' We created a relationship between X and y, the weight and bias through\\nthe linear regression formula is y = weight * X + bias\\ngradient (weight) and bias (gradient)\\n\\n\\nUsing linear regression Y = a + b*X   a=weight, b=bias\\nWe need to create a mdoel that has a parameter for a and a parameter for b\\n'"
            ],
            "application/vnd.google.colaboratory.intrinsic+json": {
              "type": "string"
            }
          },
          "metadata": {},
          "execution_count": 7
        }
      ]
    },
    {
      "cell_type": "code",
      "source": [
        "from torch import nn\n",
        "\n",
        "# creating a linear reg model class, using nn.Module chech toch.nn.Module for more info\n",
        "class LinearRegressionModel(nn.Module): # inherit from nn.Module, most things in PyTorch inherit from this.\n",
        " def __init__(self): # constructor taking self as a parameter\n",
        "  super().__init__()\n",
        "\n",
        "  #creating parameters\n",
        "  self.weights = nn.Parameter(torch.randn(1, requires_grad=True, dtype=torch.float))\n",
        "  self.bias = nn.Parameter(torch.randn(1, requires_grad=True, dtype=torch.float))\n",
        "\n",
        "  # Method to deifne computation in the model\n",
        "  #parameter x is expected to be a torch.Tensor and return a torch.Tensor\n",
        "  def forward(self, x: torch.Tensor) -> torch.Tensor: # x is input data\n",
        "    return self.weights * x + self.bias\n",
        "\n",
        "    \"\"\" The model starts with random parameters both 'self' parameters, then it looks at the data (training samples in this case)\n",
        "        and then it computers and updates those random numbers to represent the pattern in the data graphed.\n",
        "        It takes the weight and bias and it runs through the 'forward' calculation which is the same formula that we used\n",
        "        to create our data, this to represent as close as possible, if not perfect the known parameters.\n",
        "        Utilizing gradient descent algorithm\n"
      ],
      "metadata": {
        "id": "UHfzdYo9NPYh"
      },
      "execution_count": 9,
      "outputs": []
    },
    {
      "cell_type": "code",
      "source": [],
      "metadata": {
        "id": "CFQURGI1RNr_"
      },
      "execution_count": null,
      "outputs": []
    }
  ]
}