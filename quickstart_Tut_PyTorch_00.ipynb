{
  "nbformat": 4,
  "nbformat_minor": 0,
  "metadata": {
    "colab": {
      "provenance": [],
      "gpuType": "T4",
      "authorship_tag": "ABX9TyPIsyBdNXjVdkRAHoUnFZQo"
    },
    "kernelspec": {
      "name": "python3",
      "display_name": "Python 3"
    },
    "language_info": {
      "name": "python"
    },
    "accelerator": "GPU"
  },
  "cells": [
    {
      "cell_type": "markdown",
      "source": [
        "Working with Data"
      ],
      "metadata": {
        "id": "yt64yEuGgssA"
      }
    },
    {
      "cell_type": "code",
      "execution_count": 1,
      "metadata": {
        "id": "R_hVDRpKWqCU"
      },
      "outputs": [],
      "source": [
        "import torch\n",
        "from torch import nn\n",
        "from torch.utils.data import DataLoader\n",
        "from torchvision import datasets\n",
        "from torchvision.transforms import ToTensor"
      ]
    },
    {
      "cell_type": "code",
      "source": [
        "# download training data from open datasets\n",
        "training_data = datasets.FashionMNIST(\n",
        "    root= \"data\",\n",
        "    train= True,\n",
        "    download= True,\n",
        "    transform= ToTensor(),\n",
        ")\n",
        "\n",
        "# download test data from open datasets\n",
        "test_data = datasets.FashionMNIST(\n",
        "    root=\"data\",\n",
        "    train=False,\n",
        "    download=True,\n",
        "    transform=ToTensor(),\n",
        "\n",
        ")"
      ],
      "metadata": {
        "colab": {
          "base_uri": "https://localhost:8080/"
        },
        "id": "kOheNjTBX-xw",
        "outputId": "f54cf25f-fdfc-4608-d022-84f8d1f09ccf"
      },
      "execution_count": 4,
      "outputs": [
        {
          "output_type": "stream",
          "name": "stdout",
          "text": [
            "Downloading http://fashion-mnist.s3-website.eu-central-1.amazonaws.com/train-images-idx3-ubyte.gz\n",
            "Downloading http://fashion-mnist.s3-website.eu-central-1.amazonaws.com/train-images-idx3-ubyte.gz to data/FashionMNIST/raw/train-images-idx3-ubyte.gz\n"
          ]
        },
        {
          "output_type": "stream",
          "name": "stderr",
          "text": [
            "100%|██████████| 26421880/26421880 [00:05<00:00, 5272864.54it/s]\n"
          ]
        },
        {
          "output_type": "stream",
          "name": "stdout",
          "text": [
            "Extracting data/FashionMNIST/raw/train-images-idx3-ubyte.gz to data/FashionMNIST/raw\n",
            "\n",
            "Downloading http://fashion-mnist.s3-website.eu-central-1.amazonaws.com/train-labels-idx1-ubyte.gz\n",
            "Downloading http://fashion-mnist.s3-website.eu-central-1.amazonaws.com/train-labels-idx1-ubyte.gz to data/FashionMNIST/raw/train-labels-idx1-ubyte.gz\n"
          ]
        },
        {
          "output_type": "stream",
          "name": "stderr",
          "text": [
            "100%|██████████| 29515/29515 [00:00<00:00, 209929.65it/s]\n"
          ]
        },
        {
          "output_type": "stream",
          "name": "stdout",
          "text": [
            "Extracting data/FashionMNIST/raw/train-labels-idx1-ubyte.gz to data/FashionMNIST/raw\n",
            "\n",
            "Downloading http://fashion-mnist.s3-website.eu-central-1.amazonaws.com/t10k-images-idx3-ubyte.gz\n",
            "Downloading http://fashion-mnist.s3-website.eu-central-1.amazonaws.com/t10k-images-idx3-ubyte.gz to data/FashionMNIST/raw/t10k-images-idx3-ubyte.gz\n"
          ]
        },
        {
          "output_type": "stream",
          "name": "stderr",
          "text": [
            "100%|██████████| 4422102/4422102 [00:06<00:00, 736597.45it/s] \n"
          ]
        },
        {
          "output_type": "stream",
          "name": "stdout",
          "text": [
            "Extracting data/FashionMNIST/raw/t10k-images-idx3-ubyte.gz to data/FashionMNIST/raw\n",
            "\n",
            "Downloading http://fashion-mnist.s3-website.eu-central-1.amazonaws.com/t10k-labels-idx1-ubyte.gz\n",
            "Downloading http://fashion-mnist.s3-website.eu-central-1.amazonaws.com/t10k-labels-idx1-ubyte.gz to data/FashionMNIST/raw/t10k-labels-idx1-ubyte.gz\n"
          ]
        },
        {
          "output_type": "stream",
          "name": "stderr",
          "text": [
            "100%|██████████| 5148/5148 [00:00<00:00, 4147575.30it/s]\n"
          ]
        },
        {
          "output_type": "stream",
          "name": "stdout",
          "text": [
            "Extracting data/FashionMNIST/raw/t10k-labels-idx1-ubyte.gz to data/FashionMNIST/raw\n",
            "\n"
          ]
        }
      ]
    },
    {
      "cell_type": "code",
      "source": [
        "# passing the dataset created as an argument to DataLoader\n",
        "\n",
        "batch_size = 64\n",
        "\n",
        "# Create data laoders\n",
        "train_dataloader = DataLoader(training_data, batch_size = batch_size)\n",
        "test_dataloader = DataLoader(test_data, batch_size = batch_size)\n",
        "\n",
        "for X, y in test_dataloader:\n",
        "  print(f\"Shape of X [N, C , H ,W]: {X.shape}\")\n",
        "  print(f\"Shape of y: {y.shape} Type of y: {y.dtype}\")\n",
        "  break\n"
      ],
      "metadata": {
        "colab": {
          "base_uri": "https://localhost:8080/"
        },
        "id": "EUytCISGb-nz",
        "outputId": "351cff5f-6778-4666-e065-27faee3e026b"
      },
      "execution_count": 8,
      "outputs": [
        {
          "output_type": "stream",
          "name": "stdout",
          "text": [
            "Shape of X [N, C , H ,W]: torch.Size([64, 1, 28, 28])\n",
            "Shape of y: torch.Size([64]) Type of y: torch.int64\n"
          ]
        }
      ]
    },
    {
      "cell_type": "markdown",
      "source": [
        "Creating Models"
      ],
      "metadata": {
        "id": "hnorr5H2gwED"
      }
    },
    {
      "cell_type": "code",
      "source": [
        "# To create a neural network in PyTorch, we create a aclass that inherits form nn.Module.\n",
        "# We define the layers of the network in the __init__ function.\n",
        "# We specify how data will pass through the network in the forward function.\n",
        "#To acceletate operations in the nerual network, we move it to the GPU or MPS if available."
      ],
      "metadata": {
        "id": "-X6yn-m5gAo2"
      },
      "execution_count": 9,
      "outputs": []
    },
    {
      "cell_type": "code",
      "source": [
        "# get the device for training (cpu, grpu or mps)\n",
        "\n",
        "device = (\n",
        "    \"cuda\"\n",
        "    if torch.cuda.is_available()\n",
        "    else \"mps\"\n",
        "    if torch.backends.mps.is_available()\n",
        "    else \"cpu\"\n",
        ")\n",
        "\n",
        "print(f\"The used device is {device}\")"
      ],
      "metadata": {
        "colab": {
          "base_uri": "https://localhost:8080/"
        },
        "id": "rEsjf6tyhJLP",
        "outputId": "a29cc170-8fb6-471b-8ebc-104b94d7aabb"
      },
      "execution_count": 10,
      "outputs": [
        {
          "output_type": "stream",
          "name": "stdout",
          "text": [
            "The used device is cpu\n"
          ]
        }
      ]
    },
    {
      "cell_type": "code",
      "source": [
        "# define the desired model\n",
        "\n",
        "class NeuralNetwork(nn.Module):\n",
        "  def __init__(self):\n",
        "    super().__init__()\n",
        "    self.flatten = nn.Flatten()\n",
        "    self.linear_relu_stack = nn.Sequential(\n",
        "        nn.Linear(28*28, 512),\n",
        "        nn.ReLU(),\n",
        "        nn.Linear(512, 512),\n",
        "        nn.ReLU(),\n",
        "        nn.Linear(512, 10)\n",
        "        )\n",
        "\n",
        "  def forward(self, x):\n",
        "      x = self.flatten(x)\n",
        "      logits = self.linear_relu_stack(x)\n",
        "      return logits\n",
        "\n",
        "model = NeuralNetwork().to(device)\n",
        "print(f\"Model is: {model}\")\n"
      ],
      "metadata": {
        "colab": {
          "base_uri": "https://localhost:8080/"
        },
        "id": "9wRbc6X1hgOf",
        "outputId": "cb8f3789-14e0-4fce-8e0c-79e4b5b3d65a"
      },
      "execution_count": 46,
      "outputs": [
        {
          "output_type": "stream",
          "name": "stdout",
          "text": [
            "Model is: NeuralNetwork(\n",
            "  (flatten): Flatten(start_dim=1, end_dim=-1)\n",
            "  (linear_relu_stack): Sequential(\n",
            "    (0): Linear(in_features=784, out_features=512, bias=True)\n",
            "    (1): ReLU()\n",
            "    (2): Linear(in_features=512, out_features=512, bias=True)\n",
            "    (3): ReLU()\n",
            "    (4): Linear(in_features=512, out_features=10, bias=True)\n",
            "  )\n",
            ")\n"
          ]
        }
      ]
    },
    {
      "cell_type": "markdown",
      "source": [
        "Optimizing the model parameters"
      ],
      "metadata": {
        "id": "w_V2t46WpFHX"
      }
    },
    {
      "cell_type": "code",
      "source": [
        "# To train a model, we need a loss function and an optimizer\n",
        "#The loss function/the cost function/objective function, measures how well the model's predictions match actual data\n",
        "#The optimizing function is algorithm that adjusts the model's parameters (weights and biases) to minimize the loss function."
      ],
      "metadata": {
        "id": "kRt38pVNmyhu"
      },
      "execution_count": 26,
      "outputs": []
    },
    {
      "cell_type": "code",
      "source": [
        "loss_fn =  nn.CrossEntropyLoss()\n",
        "optimizer = torch.optim.SGD(model.parameters(), lr= 1e-3)"
      ],
      "metadata": {
        "id": "v_-Ev4hiow1g"
      },
      "execution_count": 47,
      "outputs": []
    },
    {
      "cell_type": "code",
      "source": [
        "# In a single training loop, the model makes predictions on the training dataset (fed to it in batches)\n",
        "# Backpropagates tge prediction error to adjust the model's parameters."
      ],
      "metadata": {
        "id": "BqDVQ0XFpq2k"
      },
      "execution_count": 48,
      "outputs": []
    },
    {
      "cell_type": "code",
      "source": [
        "def train(dataloader, model, loss_fn, optimizer):\n",
        "  size = len(dataloader.dataset)\n",
        "  model.train()\n",
        "  for batch, (X, y) in enumerate(dataloader):\n",
        "    X , y = X.to(device), y.to(device)\n",
        "\n",
        "    # Computing the prediction error\n",
        "    pred = model(X)\n",
        "    loss = loss_fn(pred, y)\n",
        "\n",
        "    # Bakcpropagation\n",
        "    loss.backward()\n",
        "    optimizer.step()\n",
        "    optimizer.zero_grad()\n",
        "\n",
        "    if batch % 100 == 0:\n",
        "      loss, current = loss.item(), (batch + 1) * len(X)\n",
        "      print(f\" Loss: {loss:>7f} [{current:>5d}/{size:>5d}]\")"
      ],
      "metadata": {
        "id": "oKsXf56oqTKS"
      },
      "execution_count": 49,
      "outputs": []
    },
    {
      "cell_type": "code",
      "source": [
        "# Checking the models performance agaisnt the test dataset to ensure it is learning\n",
        "\n",
        "def test(dataloader, model, loss_fn):\n",
        "  size = len(dataloader.dataset)\n",
        "  num_batches = len(dataloader)\n",
        "  model.eval()\n",
        "  test_loss, correct = 0,0\n",
        "  with torch.no_grad():\n",
        "    for X, y in dataloader:\n",
        "      X, y = X.to(device), y.to(device)\n",
        "      pred = model(X)\n",
        "      test_loss += loss_fn(pred, y).item()\n",
        "      correct += (pred.argmax(1) == y).type(torch.float).sum().item()\n",
        "    test_loss /= num_batches\n",
        "    correct /= size\n",
        "    print(f\" Test: Error \\n Accuracy: {(100*correct):>0.1f}%, Average loss: {test_loss:>8f} \\n\")"
      ],
      "metadata": {
        "id": "yxZ4PRYGt5QJ"
      },
      "execution_count": 55,
      "outputs": []
    },
    {
      "cell_type": "code",
      "source": [
        "# The training process is done over several epochs(iterations)\n",
        "# Each epoch makes the model learn parameters to make better predictions.\n",
        "# We pring model accuracy and loss at each epoch\n",
        "# We'd like to see teh accuracy increase and the loss decreasy after every epoch"
      ],
      "metadata": {
        "id": "wGVTn0pMwW2-"
      },
      "execution_count": 56,
      "outputs": []
    },
    {
      "cell_type": "code",
      "source": [
        "epochs = 5\n",
        "for t in range(epochs):\n",
        "  print(f\"Epoch {t+1}\\n---------------------------\")\n",
        "  train(train_dataloader, model, loss_fn, optimizer)\n",
        "  test(test_dataloader, model, loss_fn)\n",
        "print(\"Done\")"
      ],
      "metadata": {
        "colab": {
          "base_uri": "https://localhost:8080/"
        },
        "id": "WVx7cDwSyD66",
        "outputId": "52d39aa5-ecae-46c9-ec88-16c4a21c00e4"
      },
      "execution_count": 57,
      "outputs": [
        {
          "output_type": "stream",
          "name": "stdout",
          "text": [
            "Epoch 1\n",
            "---------------------------\n",
            " Loss: 1.924066 [   64/60000]\n",
            " Loss: 1.879750 [ 6464/60000]\n",
            " Loss: 1.769688 [12864/60000]\n",
            " Loss: 1.796815 [19264/60000]\n",
            " Loss: 1.704427 [25664/60000]\n",
            " Loss: 1.650053 [32064/60000]\n",
            " Loss: 1.666553 [38464/60000]\n",
            " Loss: 1.578768 [44864/60000]\n",
            " Loss: 1.613806 [51264/60000]\n",
            " Loss: 1.487571 [57664/60000]\n",
            " Test: Error \n",
            " Accuracy: 60.5%, Average loss: 1.514545 \n",
            "\n",
            "Epoch 2\n",
            "---------------------------\n",
            " Loss: 1.590173 [   64/60000]\n",
            " Loss: 1.543150 [ 6464/60000]\n",
            " Loss: 1.402555 [12864/60000]\n",
            " Loss: 1.463452 [19264/60000]\n",
            " Loss: 1.358606 [25664/60000]\n",
            " Loss: 1.344405 [32064/60000]\n",
            " Loss: 1.357812 [38464/60000]\n",
            " Loss: 1.293077 [44864/60000]\n",
            " Loss: 1.334287 [51264/60000]\n",
            " Loss: 1.220239 [57664/60000]\n",
            " Test: Error \n",
            " Accuracy: 63.7%, Average loss: 1.251484 \n",
            "\n",
            "Epoch 3\n",
            "---------------------------\n",
            " Loss: 1.334097 [   64/60000]\n",
            " Loss: 1.306319 [ 6464/60000]\n",
            " Loss: 1.147483 [12864/60000]\n",
            " Loss: 1.245674 [19264/60000]\n",
            " Loss: 1.128456 [25664/60000]\n",
            " Loss: 1.145489 [32064/60000]\n",
            " Loss: 1.167963 [38464/60000]\n",
            " Loss: 1.115435 [44864/60000]\n",
            " Loss: 1.156428 [51264/60000]\n",
            " Loss: 1.063413 [57664/60000]\n",
            " Test: Error \n",
            " Accuracy: 64.9%, Average loss: 1.086657 \n",
            "\n",
            "Epoch 4\n",
            "---------------------------\n",
            " Loss: 1.161748 [   64/60000]\n",
            " Loss: 1.156146 [ 6464/60000]\n",
            " Loss: 0.978442 [12864/60000]\n",
            " Loss: 1.107711 [19264/60000]\n",
            " Loss: 0.986444 [25664/60000]\n",
            " Loss: 1.010764 [32064/60000]\n",
            " Loss: 1.050287 [38464/60000]\n",
            " Loss: 1.001791 [44864/60000]\n",
            " Loss: 1.039771 [51264/60000]\n",
            " Loss: 0.964621 [57664/60000]\n",
            " Test: Error \n",
            " Accuracy: 65.8%, Average loss: 0.980048 \n",
            "\n",
            "Epoch 5\n",
            "---------------------------\n",
            " Loss: 1.041664 [   64/60000]\n",
            " Loss: 1.058839 [ 6464/60000]\n",
            " Loss: 0.862946 [12864/60000]\n",
            " Loss: 1.015147 [19264/60000]\n",
            " Loss: 0.897493 [25664/60000]\n",
            " Loss: 0.915810 [32064/60000]\n",
            " Loss: 0.973294 [38464/60000]\n",
            " Loss: 0.928400 [44864/60000]\n",
            " Loss: 0.959389 [51264/60000]\n",
            " Loss: 0.898667 [57664/60000]\n",
            " Test: Error \n",
            " Accuracy: 67.2%, Average loss: 0.907709 \n",
            "\n",
            "Done\n"
          ]
        }
      ]
    },
    {
      "cell_type": "markdown",
      "source": [
        "Saving Models"
      ],
      "metadata": {
        "id": "8N6-6mczvTS3"
      }
    },
    {
      "cell_type": "code",
      "source": [
        "# saving model serializing the internal state dictionary (containing the model parameters)"
      ],
      "metadata": {
        "id": "LhN0OD6b5DrG"
      },
      "execution_count": null,
      "outputs": []
    },
    {
      "cell_type": "code",
      "source": [
        "torch.save(model.state_dict(), \"model.pth\")\n",
        "print(\"Saved PyTorchModel Sarare to model.pth\")"
      ],
      "metadata": {
        "colab": {
          "base_uri": "https://localhost:8080/"
        },
        "id": "kSwkAybo3pWp",
        "outputId": "afa20b4f-2c50-4cda-fb4a-81d0b732fc35"
      },
      "execution_count": 58,
      "outputs": [
        {
          "output_type": "stream",
          "name": "stdout",
          "text": [
            "Saved PyTorchModel Sarare to model.pth\n"
          ]
        }
      ]
    },
    {
      "cell_type": "markdown",
      "source": [
        "Loading Models"
      ],
      "metadata": {
        "id": "mJjnu9Fz5LCO"
      }
    },
    {
      "cell_type": "code",
      "source": [
        "# loading process includes re-creating the model structure and loading the state dictionary into it"
      ],
      "metadata": {
        "id": "THlgFaWz5M_I"
      },
      "execution_count": 59,
      "outputs": []
    },
    {
      "cell_type": "code",
      "source": [
        "model = NeuralNetwork().to(device)\n",
        "model.load_state_dict(torch.load(\"model.pth\"))"
      ],
      "metadata": {
        "colab": {
          "base_uri": "https://localhost:8080/"
        },
        "id": "6bYP2pg95V9p",
        "outputId": "464e86b0-063c-44b9-ab7a-f2d99ff80d54"
      },
      "execution_count": 61,
      "outputs": [
        {
          "output_type": "execute_result",
          "data": {
            "text/plain": [
              "<All keys matched successfully>"
            ]
          },
          "metadata": {},
          "execution_count": 61
        }
      ]
    },
    {
      "cell_type": "markdown",
      "source": [
        "Now the model is ready to be used to make predictions"
      ],
      "metadata": {
        "id": "My6DWI4Y5gMB"
      }
    },
    {
      "cell_type": "code",
      "source": [
        "classes = [\n",
        "    \"T=shirt/top\",\n",
        "    \"Trouser\",\n",
        "    \"Pullover\",\n",
        "    \"Dress\",\n",
        "    \"Coat\",\n",
        "    \"Sandal\",\n",
        "    \"Shirt\",\n",
        "    \"Sneaker\",\n",
        "    \"Bag\",\n",
        "    \"Ankle boot\",\n",
        "    ]\n",
        "\n",
        "model.eval()\n",
        "x, y = test_data[0][0], test_data[0][1]\n",
        "with torch.no_grad():\n",
        "  x =x.to(device)\n",
        "  pred = model(x)\n",
        "  predicted, actual = classes[pred[0].argmax(0)], classes[y]\n",
        "  print(f'Predicted: \"{predicted}\", Actual: \"{actual}\"')"
      ],
      "metadata": {
        "colab": {
          "base_uri": "https://localhost:8080/"
        },
        "id": "KYDSitx-5c1D",
        "outputId": "d094406f-e2a6-47c5-8c0b-2a5bba01981e"
      },
      "execution_count": 67,
      "outputs": [
        {
          "output_type": "stream",
          "name": "stdout",
          "text": [
            "Predicted: \"Ankle boot\", Actual: \"Ankle boot\"\n"
          ]
        }
      ]
    },
    {
      "cell_type": "code",
      "source": [],
      "metadata": {
        "id": "mbr0VDEf5z7i"
      },
      "execution_count": null,
      "outputs": []
    }
  ]
}